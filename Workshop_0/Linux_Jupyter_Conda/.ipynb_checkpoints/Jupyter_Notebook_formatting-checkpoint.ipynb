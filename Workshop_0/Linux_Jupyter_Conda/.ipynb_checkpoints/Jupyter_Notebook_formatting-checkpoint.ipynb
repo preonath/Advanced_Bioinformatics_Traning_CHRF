{
 "cells": [
  {
   "cell_type": "markdown",
   "metadata": {},
   "source": [
    "## Installation"
   ]
  },
  {
   "cell_type": "markdown",
   "metadata": {},
   "source": [
    "Follow this link to download __[JupyterLab Desktop](https://github.com/jupyterlab/jupyterlab-desktop)__ app: "
   ]
  },
  {
   "cell_type": "markdown",
   "metadata": {},
   "source": [
    "#### Install __bash_kernel__"
   ]
  },
  {
   "cell_type": "markdown",
   "metadata": {},
   "source": [
    "From you __terminal__ run the following code and __restart__ your JupyterLab"
   ]
  },
  {
   "cell_type": "markdown",
   "metadata": {},
   "source": [
    "`pip install bash_kernel`  \n",
    "`python -m bash_kernel.install`"
   ]
  },
  {
   "cell_type": "markdown",
   "metadata": {},
   "source": [
    "---"
   ]
  },
  {
   "cell_type": "markdown",
   "metadata": {},
   "source": [
    "## Important Keyboard Shortcuts"
   ]
  },
  {
   "cell_type": "markdown",
   "metadata": {},
   "source": [
    "__NB: To use following shortcuts you have to exit from editing mode of a cell i.e., go outside of the cell__\n",
    "\n",
    "- To exit editing mode of a cell: __Esc__\n",
    "- Insert new cell below current cell: __b__\n",
    "- In new cell above current cell: __a__\n",
    "- Copy current cell: __c__\n",
    "- Paste current cell under current cell: __v__\n",
    "- Delete current cell: __dd__\n",
    "- Convert current cell to markdown cell: __m__ \n",
    "- Convert current markdown cell to code cell: __y__ "
   ]
  },
  {
   "cell_type": "markdown",
   "metadata": {},
   "source": [
    "---"
   ]
  },
  {
   "cell_type": "markdown",
   "metadata": {},
   "source": [
    "## Heading and Title"
   ]
  },
  {
   "cell_type": "markdown",
   "metadata": {
    "id": "XzqhYfZo-31_",
    "slideshow": {
     "slide_type": "slide"
    },
    "tags": []
   },
   "source": [
    "# Title\n",
    "## Heading 2\n",
    "### Heading 3\n",
    "#### Heading 4\n",
    "##### Normal size - smallest possible heading"
   ]
  },
  {
   "cell_type": "markdown",
   "metadata": {
    "id": "XzqhYfZo-31_",
    "tags": []
   },
   "source": [
    "```\n",
    "# Title\n",
    "## Heading 2\n",
    "### Heading 3\n",
    "#### Heading 4\n",
    "##### Normal size - smallest possible heading\n",
    "```"
   ]
  },
  {
   "cell_type": "markdown",
   "metadata": {},
   "source": [
    "__Shortcut Key__:\n",
    "- Title/Heading 1: 1\n",
    "- Heading 2: 2\n",
    "- Heading 3: 3\n",
    "- Heading 4: 4\n",
    "- Normal size: 5\n",
    "- Small size: 6"
   ]
  },
  {
   "cell_type": "markdown",
   "metadata": {},
   "source": [
    "---"
   ]
  },
  {
   "cell_type": "markdown",
   "metadata": {},
   "source": [
    "## Text Sahpe and Size"
   ]
  },
  {
   "cell_type": "markdown",
   "metadata": {
    "id": "EjSOLcD4-32A"
   },
   "source": [
    "__Bold text__"
   ]
  },
  {
   "cell_type": "markdown",
   "metadata": {
    "id": "EjSOLcD4-32A"
   },
   "source": [
    "```\n",
    "__Bold text__\n",
    "\n",
    "**Bold text**\n",
    "```"
   ]
  },
  {
   "cell_type": "markdown",
   "metadata": {},
   "source": [
    "---"
   ]
  },
  {
   "cell_type": "markdown",
   "metadata": {
    "id": "UdITkkc0-32A"
   },
   "source": [
    "_Italics_"
   ]
  },
  {
   "cell_type": "markdown",
   "metadata": {},
   "source": [
    "```\n",
    "_Italics_\n",
    "*Italics*\n",
    "```"
   ]
  },
  {
   "cell_type": "markdown",
   "metadata": {},
   "source": [
    "---"
   ]
  },
  {
   "cell_type": "markdown",
   "metadata": {
    "id": "XrgMlU1X-32B"
   },
   "source": [
    "`this is text for monospace font`"
   ]
  },
  {
   "cell_type": "markdown",
   "metadata": {
    "id": "XrgMlU1X-32B"
   },
   "source": [
    "```\n",
    "`this is text for monospace font`\n",
    "```"
   ]
  },
  {
   "cell_type": "markdown",
   "metadata": {},
   "source": [
    "---"
   ]
  },
  {
   "cell_type": "markdown",
   "metadata": {},
   "source": [
    "```\n",
    "Code Cell Style\n",
    "```"
   ]
  },
  {
   "cell_type": "markdown",
   "metadata": {},
   "source": [
    "```\n",
    "    ```\n",
    "    Code Cell Style\n",
    "    ```\n",
    "```"
   ]
  },
  {
   "cell_type": "markdown",
   "metadata": {},
   "source": [
    "---"
   ]
  },
  {
   "cell_type": "markdown",
   "metadata": {},
   "source": [
    "## Links and Images"
   ]
  },
  {
   "cell_type": "markdown",
   "metadata": {
    "id": "a6nMj5Vd-32B"
   },
   "source": [
    "\n",
    "__External links__\n",
    "\n",
    "[Jupyter Notebook formatting](https://medium.com/ibm-data-science-experience/markdown-for-jupyter-notebooks-cheatsheet-386c05aeebed)"
   ]
  },
  {
   "cell_type": "markdown",
   "metadata": {
    "id": "a6nMj5Vd-32B"
   },
   "source": [
    "```\n",
    "External links\n",
    "\n",
    "[Jupyter Notebook formatting](https://medium.com/ibm-data-science-experience/markdown-for-jupyter-notebooks-cheatsheet-386c05aeebed)\n",
    "```"
   ]
  },
  {
   "cell_type": "markdown",
   "metadata": {
    "id": "d0UeBt91-32H"
   },
   "source": [
    "You can also bold the external link: __[Bold External Link](http://url)__"
   ]
  },
  {
   "cell_type": "markdown",
   "metadata": {
    "id": "d0UeBt91-32H"
   },
   "source": [
    "```\n",
    "You can also bold the external link: __[Bold External Link](http://url)__\n",
    "```"
   ]
  },
  {
   "cell_type": "markdown",
   "metadata": {
    "id": "j_fcieeu-318"
   },
   "source": [
    "***\n"
   ]
  },
  {
   "cell_type": "markdown",
   "metadata": {},
   "source": [
    "#### __Insert Images in jupyter notebook__"
   ]
  },
  {
   "cell_type": "markdown",
   "metadata": {},
   "source": [
    "__You can directly drag and drop an image in a markdown cell in jupyter notebook__"
   ]
  },
  {
   "cell_type": "markdown",
   "metadata": {},
   "source": [
    "![jupyter-notebook-logo.png](./images/jupyter-notebook-logo.png)"
   ]
  },
  {
   "cell_type": "markdown",
   "metadata": {},
   "source": [
    "```\n",
    "![jupyter-notebook-logo.png](./images/jupyter-notebook-logo.png)\n",
    "```"
   ]
  },
  {
   "cell_type": "markdown",
   "metadata": {},
   "source": [
    "---"
   ]
  },
  {
   "cell_type": "markdown",
   "metadata": {},
   "source": [
    "## List"
   ]
  },
  {
   "cell_type": "markdown",
   "metadata": {
    "id": "iB-dArlk-319"
   },
   "source": [
    "Numbered list can start with number. and a space. Eg: 1. text\n",
    "\n",
    "1. This\n",
    "2. Is\n",
    "    3. A\n",
    "    4. Numbered\n",
    "5. List"
   ]
  },
  {
   "cell_type": "markdown",
   "metadata": {
    "id": "iB-dArlk-319"
   },
   "source": [
    "Numbered list can start with number. and a space. Eg: 1. text\n",
    "```\n",
    "1. This\n",
    "2. Is\n",
    "    3. A\n",
    "    4. Numbered\n",
    "5. List\n",
    "```"
   ]
  },
  {
   "cell_type": "markdown",
   "metadata": {},
   "source": [
    "---"
   ]
  },
  {
   "cell_type": "markdown",
   "metadata": {
    "id": "MUsYAPLv-31-"
   },
   "source": [
    "Bulleted List:\n",
    "- list1\n",
    "- list2\n",
    "    - sublist1\n",
    "    - sublist2\n",
    "- list3\n",
    "- list4"
   ]
  },
  {
   "cell_type": "markdown",
   "metadata": {
    "id": "MUsYAPLv-31-"
   },
   "source": [
    "Bulleted List:\n",
    "```\n",
    "- list1\n",
    "- list2\n",
    "    - sublist1\n",
    "    - sublist2\n",
    "- list3\n",
    "- list4\n",
    "```"
   ]
  },
  {
   "cell_type": "markdown",
   "metadata": {},
   "source": [
    "---"
   ]
  },
  {
   "cell_type": "markdown",
   "metadata": {},
   "source": [
    "## Line Break"
   ]
  },
  {
   "cell_type": "markdown",
   "metadata": {},
   "source": [
    "We can insert line break by using:\n",
    "1. `<br>` tag\n",
    "2. putting two __spaces__ at the end of the line"
   ]
  },
  {
   "cell_type": "markdown",
   "metadata": {
    "id": "OAjc-lWR-31-"
   },
   "source": [
    "Line break<br>\n",
    "can be<br>\n",
    "done this<br>\n",
    "way\n",
    "\n",
    "This is without  \n",
    "using the  \n",
    "line break tag  "
   ]
  },
  {
   "cell_type": "markdown",
   "metadata": {
    "id": "OAjc-lWR-31-"
   },
   "source": [
    "```\n",
    "Line break<br>\n",
    "can be<br>\n",
    "done this<br>\n",
    "way\n",
    "\n",
    "This is without  \n",
    "using the  \n",
    "line break tag  \n",
    "```"
   ]
  },
  {
   "cell_type": "markdown",
   "metadata": {},
   "source": [
    "---"
   ]
  },
  {
   "cell_type": "markdown",
   "metadata": {},
   "source": [
    "## Color Fonts"
   ]
  },
  {
   "cell_type": "markdown",
   "metadata": {},
   "source": [
    "<font color=blue>Blue Text</font>  \n",
    "<font color=red>Red Text</font>  \n",
    "<font color=green>__Bold Green Text__</font>  \n",
    "<font color=pink>_Italic Pink Text_</font>  \n",
    "<font color=yellow>Yellow Text</font>  "
   ]
  },
  {
   "cell_type": "markdown",
   "metadata": {},
   "source": [
    "```\n",
    "<font color=blue>Blue Text</font>  \n",
    "<font color=red>Red Text</font>  \n",
    "<font color=green>__Bold Green Text__</font>  \n",
    "<font color=pink>_Italic Pink Text_</font>  \n",
    "<font color=yellow>Yellow Text</font>  \n",
    "```"
   ]
  },
  {
   "cell_type": "markdown",
   "metadata": {},
   "source": [
    "-----"
   ]
  },
  {
   "cell_type": "markdown",
   "metadata": {
    "id": "mQ1eAHlY-31_"
   },
   "source": [
    "__Indentation Can be used as quote__\n",
    "> this is a sample text indentation\n",
    ">> This is double indentation\n",
    ">>> You can also use triple indentation\n"
   ]
  },
  {
   "cell_type": "markdown",
   "metadata": {
    "id": "mQ1eAHlY-31_"
   },
   "source": [
    "\n",
    "```\n",
    "> this is a sample text indentation\n",
    ">> This is double indentation\n",
    ">>> You can also use triple indentation\n",
    "```"
   ]
  },
  {
   "cell_type": "markdown",
   "metadata": {
    "tags": []
   },
   "source": [
    "#### Further Reading"
   ]
  },
  {
   "cell_type": "markdown",
   "metadata": {
    "id": "DaBIdVYo-32H"
   },
   "source": [
    "[Advanced jupyter notebook formatting](https://towardsdatascience.com/bringing-the-best-out-of-jupyter-notebooks-for-data-science-f0871519ca29)"
   ]
  }
 ],
 "metadata": {
  "colab": {
   "name": "Jupyter Notebook formatting.ipynb",
   "provenance": []
  },
  "kernelspec": {
   "display_name": "Python 3 (ipykernel)",
   "language": "python",
   "name": "python3"
  },
  "language_info": {
   "codemirror_mode": {
    "name": "ipython",
    "version": 3
   },
   "file_extension": ".py",
   "mimetype": "text/x-python",
   "name": "python",
   "nbconvert_exporter": "python",
   "pygments_lexer": "ipython3",
   "version": "3.10.9"
  }
 },
 "nbformat": 4,
 "nbformat_minor": 4
}
