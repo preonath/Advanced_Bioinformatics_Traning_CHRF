{
 "cells": [
  {
   "cell_type": "code",
   "execution_count": 1,
   "id": "64693969-7407-47a7-bea1-d46596246b8b",
   "metadata": {
    "tags": []
   },
   "outputs": [],
   "source": [
    "#***********************************************#\n",
    "#               Mapping by bowtie2              #\n",
    "#***********************************************#\n",
    "\n",
    "\n",
    "\n",
    "rawpath=\"/home/asus/Desktop/CHRF_Project/Bioinformatics_Traning/Advance_Bioinformatics_Traning/Data\"\n",
    "\n",
    "\n",
    "\n",
    "Ref_SPN='/home/asus/Desktop/CHRF_Project/Bioinformatics_Traning/Advance_Bioinformatics_Traning/Mapping/Ref_SPN'\n",
    "refname=NZ_CP035252_SPN\n",
    "ref=/home/asus/Desktop/CHRF_Project/Bioinformatics_Traning/Advance_Bioinformatics_Traning/Mapping/Ref_SPN/NZ_CP035252_SPN.fa"
   ]
  },
  {
   "cell_type": "code",
   "execution_count": null,
   "id": "5ad94c64-cb80-411b-b557-badcbab8d15d",
   "metadata": {},
   "outputs": [],
   "source": [
    "# Build Index (speed up the alignment)\n",
    "mkdir $Ref_SPN\\/Index/\n",
    "bowtie2-build $Ref_SPN\\/$ref $Ref_SPN\\/Index/index\n",
    "Index=$Ref_SPN/Index/"
   ]
  },
  {
   "cell_type": "code",
   "execution_count": null,
   "id": "58e9bbb5-608c-4ffa-a81c-09b172628f8c",
   "metadata": {},
   "outputs": [],
   "source": [
    "for files in $rawpath\\/*\n",
    "do\n",
    "    name=`basename $files| cut -f 1,2 -d '_'`\n",
    "    echo $name\n",
    "\n",
    "    mkdir -p -v $rawpath\\/$name\\/5_Mapping\n",
    "\n",
    "    fastq_1=$rawpath/$name/1_RawData/$name*\\_R1_001.fastq.gz\n",
    "    fastq_2=$rawpath/$name/1_RawData/$name*\\_R2_001.fastq.gz\n",
    "    # echo $fastq_1\n",
    "    # echo $fastq_2\n",
    "\n",
    "\n",
    "    echo \"# Mapping the reads\"\n",
    "    bowtie2 -x $Index\\/index -1 $fastq_1 -2 $fastq_2 -S $rawpath\\/$name\\/5_Mapping/$name\\.sam -p 12\n",
    "\n",
    "    echo \"# Convert .sam to .bam\"\n",
    "    samtools view -ubS --threads 12 $rawpath\\/$name\\/5_Mapping/$name\\.sam > $rawpath\\/$name\\/5_Mapping/$name\\.bam\n",
    "\n",
    "    echo \"# Sort the .bam\"\n",
    "    samtools sort --threads 12 $rawpath\\/$name\\/5_Mapping/$name\\.bam -o $rawpath\\/$name\\/5_Mapping/$name\\.sorted.bam\n",
    "\n",
    "    echo \"# Index sorted BAM alignments\"\n",
    "    samtools index -@ 72 $rawpath\\/$name\\/5_Mapping/$name\\.sorted.bam\n",
    "\n",
    "\n",
    "    echo \"# Call SNPs and Indels\"\n",
    "    bcftools mpileup -d 1000 -Q 20 -Ou -Bf $ref $rawpath\\/$name\\/5_Mapping/$name\\.sorted.bam | bcftools call -cv --threads 72 | bcftools view -v snps -g hom --threads 72 > $rawpath\\/$name\\/5_Mapping/$name\\.raw.vcf\n",
    "\n",
    "    echo \"# Delete .bam file & Gzip .sam & sorted.bam file\"\n",
    "    pigz -p 72 -f $rawpath\\/$name\\/5_Mapping/$name\\.sam\n",
    "\n",
    "\n",
    "    echo \"# Generate consensus seq\"\n",
    "    cp $rawpath\\/$name\\/5_Mapping/$name\\.raw.vcf $rawpath\\/$name\\/5_Mapping/$name\\.phageD.vcf\n",
    "    bgzip --threads 12 $rawpath\\/$name\\/5_Mapping/$name\\.phageD.vcf\n",
    "    bcftools index --threads 12 $rawpath\\/$name\\/5_Mapping/$name\\.phageD.vcf.gz\n",
    "    bcftools consensus -f $ref $rawpath\\/$name\\/5_Mapping/$name\\.phageD.vcf.gz > $rawpath\\/$name\\/5_Mapping/$name\\.consensus.fasta\n",
    "    sed -i \"1 s/.*/>$name/\" $rawpath\\/$name\\/5_Mapping/$name\\.consensus.fasta\n",
    "    perl -pe '/^>/ ? print \"\\n\" : chomp' $rawpath\\/$name\\/5_Mapping/$name\\.consensus.fasta > $rawpath\\/$name\\/5_Mapping/$name\\.consensus.tmp\n",
    "    grep . $rawpath\\/$name\\/5_Mapping/$name\\.consensus.tmp > $rawpath\\/$name\\/5_Mapping/$name\\.consensus_oneline.fasta\n",
    "    rm $rawpath\\/$name\\/5_Mapping/$name\\.consensus.tmp\n",
    "    rm $rawpath\\/$name\\/5_Mapping/$name\\.bam\n",
    "\n",
    "\n",
    "done\n",
    "\n"
   ]
  }
 ],
 "metadata": {
  "kernelspec": {
   "display_name": "Bash",
   "language": "bash",
   "name": "bash"
  },
  "language_info": {
   "codemirror_mode": "shell",
   "file_extension": ".sh",
   "mimetype": "text/x-sh",
   "name": "bash"
  }
 },
 "nbformat": 4,
 "nbformat_minor": 5
}
