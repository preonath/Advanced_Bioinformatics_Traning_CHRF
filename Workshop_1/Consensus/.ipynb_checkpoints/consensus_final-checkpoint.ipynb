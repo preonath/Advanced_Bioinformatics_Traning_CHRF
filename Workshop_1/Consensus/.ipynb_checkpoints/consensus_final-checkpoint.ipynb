{
 "cells": [
  {
   "cell_type": "markdown",
   "id": "9872e1e3-8610-4a51-8436-a84af0fe9cdf",
   "metadata": {},
   "source": [
    "echo \"# Generate consensus seq\"\n",
    "cp final_variants.vcf final_variants.phageD.vcf\n",
    "bgzip --threads 12 final_variants.phageD.vcf\n",
    "bcftools index --threads 12 final_variants.phageD.vcf.gz\n",
    "bcftools consensus -f $ref final_variants.phageD.vcf.gz > final.consensus.fasta"
   ]
  },
  {
   "cell_type": "code",
   "execution_count": null,
   "id": "fd98fad5-65dc-461a-a967-0cb9bd89e259",
   "metadata": {},
   "outputs": [
    {
     "name": "stdout",
     "output_type": "stream",
     "text": [
      "(bioinfo) \n"
     ]
    },
    {
     "ename": "",
     "evalue": "1",
     "output_type": "error",
     "traceback": []
    }
   ],
   "source": [
    "conda activate bioinfo"
   ]
  },
  {
   "cell_type": "code",
   "execution_count": null,
   "id": "e94d2d5e-59fb-4a6e-8922-f8f063af709a",
   "metadata": {},
   "outputs": [
    {
     "name": "stdout",
     "output_type": "stream",
     "text": [
      "(bioinfo) \n",
      "(bioinfo) \n",
      "(bioinfo) \n"
     ]
    },
    {
     "ename": "",
     "evalue": "1",
     "output_type": "error",
     "traceback": []
    }
   ],
   "source": [
    "#***********************************************#\n",
    "#               Mapping by bowtie2              #\n",
    "#***********************************************#"
   ]
  },
  {
   "cell_type": "code",
   "execution_count": null,
   "id": "d7bd297e-3fb0-4775-b671-8128412da0be",
   "metadata": {
    "collapsed": true,
    "jupyter": {
     "outputs_hidden": true
    }
   },
   "outputs": [
    {
     "name": "stdout",
     "output_type": "stream",
     "text": [
      "(bioinfo) \n",
      "(bioinfo) \n",
      "(bioinfo) \n",
      "(bioinfo) \n",
      "(bioinfo) \n",
      "(bioinfo) \n",
      "(bioinfo) \n"
     ]
    },
    {
     "ename": "",
     "evalue": "1",
     "output_type": "error",
     "traceback": []
    }
   ],
   "source": [
    "conda activate bioinfo\n",
    "Ref_Typhi='/home/asus/Desktop/CHRF_Project/Bioinformatics_Traning/Advance_Bioinformatics_Traning/Consensus/Reference_Sequence'\n",
    "ref=/home/asus/Desktop/CHRF_Project/Bioinformatics_Traning/Advance_Bioinformatics_Traning/Consensus/Reference_Sequence/Ref_Typhi.fa\n",
    "\n",
    "\n",
    "# Build Index (speed up the alignment)\n",
    "mkdir -p $Ref_Typhi/Index/\n"
   ]
  },
  {
   "cell_type": "code",
   "execution_count": null,
   "id": "51ad1560-50f5-44bc-b213-86b6d1d0245b",
   "metadata": {},
   "outputs": [],
   "source": [
    "echo \"$Ref_Typhi\"\n",
    "echo \"$ref\""
   ]
  },
  {
   "cell_type": "code",
   "execution_count": null,
   "id": "4558504f-edc4-4d90-9667-f986ee9680c7",
   "metadata": {
    "collapsed": true,
    "jupyter": {
     "outputs_hidden": true
    }
   },
   "outputs": [
    {
     "name": "stdout",
     "output_type": "stream",
     "text": [
      "Settings:\n",
      "  Output files: \"/home/asus/Desktop/CHRF_Project/Bioinformatics_Traning/Advance_Bioinformatics_Traning/Consensus/Reference_Sequence/Index/index.*.bt2\"\n",
      "  Line rate: 6 (line is 64 bytes)\n",
      "  Lines per side: 1 (side is 64 bytes)\n",
      "  Offset rate: 4 (one in 16)\n",
      "  FTable chars: 10\n",
      "  Strings: unpacked\n",
      "  Max bucket size: default\n",
      "  Max bucket size, sqrt multiplier: default\n",
      "  Max bucket size, len divisor: 4\n",
      "  Difference-cover sample period: 1024\n",
      "  Endianness: little\n",
      "  Actual local endianness: little\n",
      "  Sanity checking: disabled\n",
      "  Assertions: disabled\n",
      "  Random seed: 0\n",
      "  Sizeofs: void*:8, int:4, long:8, size_t:8\n",
      "Input files DNA, FASTA:\n",
      "  /home/asus/Desktop/CHRF_Project/Bioinformatics_Traning/Advance_Bioinformatics_Traning/Consensus/Reference_Sequence/Ref_Typhi.fa\n",
      "Building a SMALL index\n",
      "Reading reference sizes\n",
      "  Time reading reference sizes: 00:00:00\n",
      "Calculating joined length\n",
      "Writing header\n",
      "Reserving space for joined string\n",
      "Joining reference sequences\n",
      "  Time to join reference sequences: 00:00:00\n",
      "bmax according to bmaxDivN setting: 1202259\n",
      "Using parameters --bmax 901695 --dcv 1024\n",
      "  Doing ahead-of-time memory usage test\n",
      "  Passed!  Constructing with these parameters: --bmax 901695 --dcv 1024\n",
      "Constructing suffix-array element generator\n",
      "Building DifferenceCoverSample\n",
      "  Building sPrime\n",
      "  Building sPrimeOrder\n",
      "  V-Sorting samples\n",
      "  V-Sorting samples time: 00:00:00\n",
      "  Allocating rank array\n",
      "  Ranking v-sort output\n",
      "  Ranking v-sort output time: 00:00:00\n",
      "  Invoking Larsson-Sadakane on ranks\n",
      "  Invoking Larsson-Sadakane on ranks time: 00:00:00\n",
      "  Sanity-checking and returning\n",
      "Building samples\n",
      "Reserving space for 12 sample suffixes\n",
      "Generating random suffixes\n",
      "QSorting 12 sample offsets, eliminating duplicates\n",
      "QSorting sample offsets, eliminating duplicates time: 00:00:00\n",
      "Multikey QSorting 12 samples\n",
      "  (Using difference cover)\n",
      "  Multikey QSorting samples time: 00:00:00\n",
      "Calculating bucket sizes\n",
      "Splitting and merging\n",
      "  Splitting and merging time: 00:00:00\n",
      "Avg bucket size: 687004 (target: 901694)\n",
      "Converting suffix-array elements to index image\n",
      "Allocating ftab, absorbFtab\n",
      "Entering Ebwt loop\n",
      "Getting block 1 of 7\n",
      "  Reserving size (901695) for bucket 1\n",
      "  Calculating Z arrays for bucket 1\n",
      "  Entering block accumulator loop for bucket 1:\n",
      "  bucket 1: 10%\n",
      "  bucket 1: 20%\n",
      "  bucket 1: 30%\n",
      "  bucket 1: 40%\n",
      "  bucket 1: 50%\n",
      "  bucket 1: 60%\n",
      "  bucket 1: 70%\n",
      "  bucket 1: 80%\n",
      "  bucket 1: 90%\n",
      "  bucket 1: 100%\n",
      "  Sorting block of length 734438 for bucket 1\n",
      "  (Using difference cover)\n",
      "  Sorting block time: 00:00:00\n",
      "Returning block of 734439 for bucket 1\n",
      "Getting block 2 of 7\n",
      "  Reserving size (901695) for bucket 2\n",
      "  Calculating Z arrays for bucket 2\n",
      "  Entering block accumulator loop for bucket 2:\n",
      "  bucket 2: 10%\n",
      "  bucket 2: 20%\n",
      "  bucket 2: 30%\n",
      "  bucket 2: 40%\n",
      "  bucket 2: 50%\n",
      "  bucket 2: 60%\n",
      "  bucket 2: 70%\n",
      "  bucket 2: 80%\n",
      "  bucket 2: 90%\n",
      "  bucket 2: 100%\n",
      "  Sorting block of length 810471 for bucket 2\n",
      "  (Using difference cover)\n",
      "  Sorting block time: 00:00:00\n",
      "Returning block of 810472 for bucket 2\n",
      "Getting block 3 of 7\n",
      "  Reserving size (901695) for bucket 3\n",
      "  Calculating Z arrays for bucket 3\n",
      "  Entering block accumulator loop for bucket 3:\n",
      "  bucket 3: 10%\n",
      "  bucket 3: 20%\n",
      "  bucket 3: 30%\n",
      "  bucket 3: 40%\n",
      "  bucket 3: 50%\n",
      "  bucket 3: 60%\n",
      "  bucket 3: 70%\n",
      "  bucket 3: 80%\n",
      "  bucket 3: 90%\n",
      "  bucket 3: 100%\n",
      "  Sorting block of length 832403 for bucket 3\n",
      "  (Using difference cover)\n",
      "  Sorting block time: 00:00:00\n",
      "Returning block of 832404 for bucket 3\n",
      "Getting block 4 of 7\n",
      "  Reserving size (901695) for bucket 4\n",
      "  Calculating Z arrays for bucket 4\n",
      "  Entering block accumulator loop for bucket 4:\n",
      "  bucket 4: 10%\n",
      "  bucket 4: 20%\n",
      "  bucket 4: 30%\n",
      "  bucket 4: 40%\n",
      "  bucket 4: 50%\n",
      "  bucket 4: 60%\n",
      "  bucket 4: 70%\n",
      "  bucket 4: 80%\n",
      "  bucket 4: 90%\n",
      "  bucket 4: 100%\n",
      "  Sorting block of length 457392 for bucket 4\n",
      "  (Using difference cover)\n",
      "  Sorting block time: 00:00:00\n",
      "Returning block of 457393 for bucket 4\n",
      "Getting block 5 of 7\n",
      "  Reserving size (901695) for bucket 5\n",
      "  Calculating Z arrays for bucket 5\n",
      "  Entering block accumulator loop for bucket 5:\n",
      "  bucket 5: 10%\n",
      "  bucket 5: 20%\n",
      "  bucket 5: 30%\n",
      "  bucket 5: 40%\n",
      "  bucket 5: 50%\n",
      "  bucket 5: 60%\n",
      "  bucket 5: 70%\n",
      "  bucket 5: 80%\n",
      "  bucket 5: 90%\n",
      "  bucket 5: 100%\n",
      "  Sorting block of length 622184 for bucket 5\n",
      "  (Using difference cover)\n",
      "  Sorting block time: 00:00:00\n",
      "Returning block of 622185 for bucket 5\n",
      "Getting block 6 of 7\n",
      "  Reserving size (901695) for bucket 6\n",
      "  Calculating Z arrays for bucket 6\n",
      "  Entering block accumulator loop for bucket 6:\n",
      "  bucket 6: 10%\n",
      "  bucket 6: 20%\n",
      "  bucket 6: 30%\n",
      "  bucket 6: 40%\n",
      "  bucket 6: 50%\n",
      "  bucket 6: 60%\n",
      "  bucket 6: 70%\n",
      "  bucket 6: 80%\n",
      "  bucket 6: 90%\n",
      "  bucket 6: 100%\n",
      "  Sorting block of length 623577 for bucket 6\n",
      "  (Using difference cover)\n",
      "  Sorting block time: 00:00:00\n",
      "Returning block of 623578 for bucket 6\n",
      "Getting block 7 of 7\n",
      "  Reserving size (901695) for bucket 7\n",
      "  Calculating Z arrays for bucket 7\n",
      "  Entering block accumulator loop for bucket 7:\n",
      "  bucket 7: 10%\n",
      "  bucket 7: 20%\n",
      "  bucket 7: 30%\n",
      "  bucket 7: 40%\n",
      "  bucket 7: 50%\n",
      "  bucket 7: 60%\n",
      "  bucket 7: 70%\n",
      "  bucket 7: 80%\n",
      "  bucket 7: 90%\n",
      "  bucket 7: 100%\n",
      "  Sorting block of length 728566 for bucket 7\n",
      "  (Using difference cover)\n",
      "  Sorting block time: 00:00:01\n",
      "Returning block of 728567 for bucket 7\n",
      "Exited Ebwt loop\n",
      "fchr[A]: 0\n",
      "fchr[C]: 1150204\n",
      "fchr[G]: 2400877\n",
      "fchr[T]: 3655362\n",
      "fchr[$]: 4809037\n",
      "Exiting Ebwt::buildToDisk()\n",
      "Returning from initFromVector\n",
      "Wrote 5797626 bytes to primary EBWT file: /home/asus/Desktop/CHRF_Project/Bioinformatics_Traning/Advance_Bioinformatics_Traning/Consensus/Reference_Sequence/Index/index.1.bt2.tmp\n",
      "Wrote 1202264 bytes to secondary EBWT file: /home/asus/Desktop/CHRF_Project/Bioinformatics_Traning/Advance_Bioinformatics_Traning/Consensus/Reference_Sequence/Index/index.2.bt2.tmp\n",
      "Re-opening _in1 and _in2 as input streams\n",
      "Returning from Ebwt constructor\n",
      "Headers:\n",
      "    len: 4809037\n",
      "    bwtLen: 4809038\n",
      "    sz: 1202260\n",
      "    bwtSz: 1202260\n",
      "    lineRate: 6\n",
      "    offRate: 4\n",
      "    offMask: 0xfffffff0\n",
      "    ftabChars: 10\n",
      "    eftabLen: 20\n",
      "    eftabSz: 80\n",
      "    ftabLen: 1048577\n",
      "    ftabSz: 4194308\n",
      "    offsLen: 300565\n",
      "    offsSz: 1202260\n",
      "    lineSz: 64\n",
      "    sideSz: 64\n",
      "    sideBwtSz: 48\n",
      "    sideBwtLen: 192\n",
      "    numSides: 25048\n",
      "    numLines: 25048\n",
      "    ebwtTotLen: 1603072\n",
      "    ebwtTotSz: 1603072\n",
      "    color: 0\n",
      "    reverse: 0\n",
      "Total time for call to driver() for forward index: 00:00:01\n",
      "Reading reference sizes\n",
      "  Time reading reference sizes: 00:00:00\n",
      "Calculating joined length\n",
      "Writing header\n",
      "Reserving space for joined string\n",
      "Joining reference sequences\n",
      "  Time to join reference sequences: 00:00:00\n",
      "  Time to reverse reference sequence: 00:00:00\n",
      "bmax according to bmaxDivN setting: 1202259\n",
      "Using parameters --bmax 901695 --dcv 1024\n",
      "  Doing ahead-of-time memory usage test\n",
      "  Passed!  Constructing with these parameters: --bmax 901695 --dcv 1024\n",
      "Constructing suffix-array element generator\n",
      "Building DifferenceCoverSample\n",
      "  Building sPrime\n",
      "  Building sPrimeOrder\n",
      "  V-Sorting samples\n",
      "  V-Sorting samples time: 00:00:00\n",
      "  Allocating rank array\n",
      "  Ranking v-sort output\n",
      "  Ranking v-sort output time: 00:00:00\n",
      "  Invoking Larsson-Sadakane on ranks\n",
      "  Invoking Larsson-Sadakane on ranks time: 00:00:00\n",
      "  Sanity-checking and returning\n",
      "Building samples\n",
      "Reserving space for 12 sample suffixes\n",
      "Generating random suffixes\n",
      "QSorting 12 sample offsets, eliminating duplicates\n",
      "QSorting sample offsets, eliminating duplicates time: 00:00:00\n",
      "Multikey QSorting 12 samples\n",
      "  (Using difference cover)\n",
      "  Multikey QSorting samples time: 00:00:00\n",
      "Calculating bucket sizes\n",
      "Splitting and merging\n",
      "  Splitting and merging time: 00:00:00\n",
      "Avg bucket size: 687004 (target: 901694)\n",
      "Converting suffix-array elements to index image\n",
      "Allocating ftab, absorbFtab\n",
      "Entering Ebwt loop\n",
      "Getting block 1 of 7\n",
      "  Reserving size (901695) for bucket 1\n",
      "  Calculating Z arrays for bucket 1\n",
      "  Entering block accumulator loop for bucket 1:\n",
      "  bucket 1: 10%\n",
      "  bucket 1: 20%\n",
      "  bucket 1: 30%\n",
      "  bucket 1: 40%\n",
      "  bucket 1: 50%\n",
      "  bucket 1: 60%\n",
      "  bucket 1: 70%\n",
      "  bucket 1: 80%\n",
      "  bucket 1: 90%\n",
      "  bucket 1: 100%\n",
      "  Sorting block of length 879214 for bucket 1\n",
      "  (Using difference cover)\n",
      "  Sorting block time: 00:00:00\n",
      "Returning block of 879215 for bucket 1\n",
      "Getting block 2 of 7\n",
      "  Reserving size (901695) for bucket 2\n",
      "  Calculating Z arrays for bucket 2\n",
      "  Entering block accumulator loop for bucket 2:\n",
      "  bucket 2: 10%\n",
      "  bucket 2: 20%\n",
      "  bucket 2: 30%\n",
      "  bucket 2: 40%\n",
      "  bucket 2: 50%\n",
      "  bucket 2: 60%\n",
      "  bucket 2: 70%\n",
      "  bucket 2: 80%\n",
      "  bucket 2: 90%\n",
      "  bucket 2: 100%\n",
      "  Sorting block of length 838351 for bucket 2\n",
      "  (Using difference cover)\n",
      "  Sorting block time: 00:00:00\n",
      "Returning block of 838352 for bucket 2\n",
      "Getting block 3 of 7\n",
      "  Reserving size (901695) for bucket 3\n",
      "  Calculating Z arrays for bucket 3\n",
      "  Entering block accumulator loop for bucket 3:\n",
      "  bucket 3: 10%\n",
      "  bucket 3: 20%\n",
      "  bucket 3: 30%\n",
      "  bucket 3: 40%\n",
      "  bucket 3: 50%\n",
      "  bucket 3: 60%\n",
      "  bucket 3: 70%\n",
      "  bucket 3: 80%\n",
      "  bucket 3: 90%\n",
      "  bucket 3: 100%\n",
      "  Sorting block of length 552263 for bucket 3\n",
      "  (Using difference cover)\n",
      "  Sorting block time: 00:00:00\n",
      "Returning block of 552264 for bucket 3\n",
      "Getting block 4 of 7\n",
      "  Reserving size (901695) for bucket 4\n",
      "  Calculating Z arrays for bucket 4\n",
      "  Entering block accumulator loop for bucket 4:\n",
      "  bucket 4: 10%\n",
      "  bucket 4: 20%\n",
      "  bucket 4: 30%\n",
      "  bucket 4: 40%\n",
      "  bucket 4: 50%\n",
      "  bucket 4: 60%\n",
      "  bucket 4: 70%\n",
      "  bucket 4: 80%\n",
      "  bucket 4: 90%\n",
      "  bucket 4: 100%\n",
      "  Sorting block of length 885227 for bucket 4\n",
      "  (Using difference cover)\n",
      "  Sorting block time: 00:00:00\n",
      "Returning block of 885228 for bucket 4\n",
      "Getting block 5 of 7\n",
      "  Reserving size (901695) for bucket 5\n",
      "  Calculating Z arrays for bucket 5\n",
      "  Entering block accumulator loop for bucket 5:\n",
      "  bucket 5: 10%\n",
      "  bucket 5: 20%\n",
      "  bucket 5: 30%\n",
      "  bucket 5: 40%\n",
      "  bucket 5: 50%\n",
      "  bucket 5: 60%\n",
      "  bucket 5: 70%\n",
      "  bucket 5: 80%\n",
      "  bucket 5: 90%\n",
      "  bucket 5: 100%\n",
      "  Sorting block of length 632937 for bucket 5\n",
      "  (Using difference cover)\n",
      "  Sorting block time: 00:00:00\n",
      "Returning block of 632938 for bucket 5\n",
      "Getting block 6 of 7\n",
      "  Reserving size (901695) for bucket 6\n",
      "  Calculating Z arrays for bucket 6\n",
      "  Entering block accumulator loop for bucket 6:\n",
      "  bucket 6: 10%\n",
      "  bucket 6: 20%\n",
      "  bucket 6: 30%\n",
      "  bucket 6: 40%\n",
      "  bucket 6: 50%\n",
      "  bucket 6: 60%\n",
      "  bucket 6: 70%\n",
      "  bucket 6: 80%\n",
      "  bucket 6: 90%\n",
      "  bucket 6: 100%\n",
      "  Sorting block of length 538455 for bucket 6\n",
      "  (Using difference cover)\n",
      "  Sorting block time: 00:00:00\n",
      "Returning block of 538456 for bucket 6\n",
      "Getting block 7 of 7\n",
      "  Reserving size (901695) for bucket 7\n",
      "  Calculating Z arrays for bucket 7\n",
      "  Entering block accumulator loop for bucket 7:\n",
      "  bucket 7: 10%\n",
      "  bucket 7: 20%\n",
      "  bucket 7: 30%\n",
      "  bucket 7: 40%\n",
      "  bucket 7: 50%\n",
      "  bucket 7: 60%\n",
      "  bucket 7: 70%\n",
      "  bucket 7: 80%\n",
      "  bucket 7: 90%\n",
      "  bucket 7: 100%\n",
      "  Sorting block of length 482584 for bucket 7\n",
      "  (Using difference cover)\n",
      "  Sorting block time: 00:00:00\n",
      "Returning block of 482585 for bucket 7\n",
      "Exited Ebwt loop\n",
      "fchr[A]: 0\n",
      "fchr[C]: 1150204\n",
      "fchr[G]: 2400877\n",
      "fchr[T]: 3655362\n",
      "fchr[$]: 4809037\n",
      "Exiting Ebwt::buildToDisk()\n",
      "Returning from initFromVector\n",
      "Wrote 5797626 bytes to primary EBWT file: /home/asus/Desktop/CHRF_Project/Bioinformatics_Traning/Advance_Bioinformatics_Traning/Consensus/Reference_Sequence/Index/index.rev.1.bt2.tmp\n",
      "Wrote 1202264 bytes to secondary EBWT file: /home/asus/Desktop/CHRF_Project/Bioinformatics_Traning/Advance_Bioinformatics_Traning/Consensus/Reference_Sequence/Index/index.rev.2.bt2.tmp\n",
      "Re-opening _in1 and _in2 as input streams\n",
      "Returning from Ebwt constructor\n",
      "Headers:\n",
      "    len: 4809037\n",
      "    bwtLen: 4809038\n",
      "    sz: 1202260\n",
      "    bwtSz: 1202260\n",
      "    lineRate: 6\n",
      "    offRate: 4\n",
      "    offMask: 0xfffffff0\n",
      "    ftabChars: 10\n",
      "    eftabLen: 20\n",
      "    eftabSz: 80\n",
      "    ftabLen: 1048577\n",
      "    ftabSz: 4194308\n",
      "    offsLen: 300565\n",
      "    offsSz: 1202260\n",
      "    lineSz: 64\n",
      "    sideSz: 64\n",
      "    sideBwtSz: 48\n",
      "    sideBwtLen: 192\n",
      "    numSides: 25048\n",
      "    numLines: 25048\n",
      "    ebwtTotLen: 1603072\n",
      "    ebwtTotSz: 1603072\n",
      "    color: 0\n",
      "    reverse: 1\n",
      "Total time for backward call to driver() for mirror index: 00:00:01\n",
      "Renaming /home/asus/Desktop/CHRF_Project/Bioinformatics_Traning/Advance_Bioinformatics_Traning/Consensus/Reference_Sequence/Index/index.3.bt2.tmp to /home/asus/Desktop/CHRF_Project/Bioinformatics_Traning/Advance_Bioinformatics_Traning/Consensus/Reference_Sequence/Index/index.3.bt2\n",
      "Renaming /home/asus/Desktop/CHRF_Project/Bioinformatics_Traning/Advance_Bioinformatics_Traning/Consensus/Reference_Sequence/Index/index.4.bt2.tmp to /home/asus/Desktop/CHRF_Project/Bioinformatics_Traning/Advance_Bioinformatics_Traning/Consensus/Reference_Sequence/Index/index.4.bt2\n",
      "Renaming /home/asus/Desktop/CHRF_Project/Bioinformatics_Traning/Advance_Bioinformatics_Traning/Consensus/Reference_Sequence/Index/index.1.bt2.tmp to /home/asus/Desktop/CHRF_Project/Bioinformatics_Traning/Advance_Bioinformatics_Traning/Consensus/Reference_Sequence/Index/index.1.bt2\n",
      "Renaming /home/asus/Desktop/CHRF_Project/Bioinformatics_Traning/Advance_Bioinformatics_Traning/Consensus/Reference_Sequence/Index/index.2.bt2.tmp to /home/asus/Desktop/CHRF_Project/Bioinformatics_Traning/Advance_Bioinformatics_Traning/Consensus/Reference_Sequence/Index/index.2.bt2\n",
      "Renaming /home/asus/Desktop/CHRF_Project/Bioinformatics_Traning/Advance_Bioinformatics_Traning/Consensus/Reference_Sequence/Index/index.rev.1.bt2.tmp to /home/asus/Desktop/CHRF_Project/Bioinformatics_Traning/Advance_Bioinformatics_Traning/Consensus/Reference_Sequence/Index/index.rev.1.bt2\n",
      "Renaming /home/asus/Desktop/CHRF_Project/Bioinformatics_Traning/Advance_Bioinformatics_Traning/Consensus/Reference_Sequence/Index/index.rev.2.bt2.tmp to /home/asus/Desktop/CHRF_Project/Bioinformatics_Traning/Advance_Bioinformatics_Traning/Consensus/Reference_Sequence/Index/index.rev.2.bt2\n",
      "(bioinfo) \n",
      "(bioinfo) \n"
     ]
    },
    {
     "ename": "",
     "evalue": "1",
     "output_type": "error",
     "traceback": []
    }
   ],
   "source": [
    "bowtie2-build $ref $Ref_Typhi/Index/index\n",
    "Index=$Ref_Typhi/Index/"
   ]
  },
  {
   "cell_type": "code",
   "execution_count": null,
   "id": "9c2d4a84-ff32-4b45-ab1d-3424e178e7ae",
   "metadata": {},
   "outputs": [
    {
     "name": "stdout",
     "output_type": "stream",
     "text": [
      "# Mapping the reads\n",
      "(bioinfo) \n",
      "2070775 reads; of these:\n",
      "  2070775 (100.00%) were paired; of these:\n",
      "    83562 (4.04%) aligned concordantly 0 times\n",
      "    1928595 (93.13%) aligned concordantly exactly 1 time\n",
      "    58618 (2.83%) aligned concordantly >1 times\n",
      "    ----\n",
      "    83562 pairs aligned concordantly 0 times; of these:\n",
      "      1855 (2.22%) aligned discordantly 1 time\n",
      "    ----\n",
      "    81707 pairs aligned 0 times concordantly or discordantly; of these:\n",
      "      163414 mates make up the pairs; of these:\n",
      "        155574 (95.20%) aligned 0 times\n",
      "        6986 (4.28%) aligned exactly 1 time\n",
      "        854 (0.52%) aligned >1 times\n",
      "96.24% overall alignment rate\n",
      "(bioinfo) \n"
     ]
    },
    {
     "ename": "",
     "evalue": "1",
     "output_type": "error",
     "traceback": []
    }
   ],
   "source": [
    "echo \"# Mapping the reads\"\n",
    "bowtie2 -x $Index\\/index -1 ERR2663496_1.fastq.gz -2 ERR2663496_2.fastq.gz -S ERR2663496.sam -p 12"
   ]
  },
  {
   "cell_type": "code",
   "execution_count": null,
   "id": "c393381a-d565-4c24-b906-9d19342bdbd6",
   "metadata": {},
   "outputs": [
    {
     "name": "stdout",
     "output_type": "stream",
     "text": [
      "# Convert .sam to .bam\n",
      "(bioinfo) \n",
      "(bioinfo) \n"
     ]
    },
    {
     "ename": "",
     "evalue": "1",
     "output_type": "error",
     "traceback": []
    }
   ],
   "source": [
    "echo \"# Convert .sam to .bam\"\n",
    "samtools view -ubS --threads 12 ERR2663496.sam > ERR2663496.bam"
   ]
  },
  {
   "cell_type": "code",
   "execution_count": null,
   "id": "0659f5f2-9a6f-4e3d-a71b-0e54cecffc2a",
   "metadata": {},
   "outputs": [
    {
     "name": "stdout",
     "output_type": "stream",
     "text": [
      "# Sort the .bam\n",
      "(bioinfo) \n",
      "[bam_sort_core] merging from 0 files and 12 in-memory blocks...\n",
      "(bioinfo) \n"
     ]
    },
    {
     "ename": "",
     "evalue": "1",
     "output_type": "error",
     "traceback": []
    }
   ],
   "source": [
    "echo \"# Sort the .bam\"\n",
    "samtools sort --threads 12 ERR2663496.bam -o ERR2663496.sorted.bam"
   ]
  },
  {
   "cell_type": "code",
   "execution_count": null,
   "id": "e61bd661-f6da-49a0-9c57-d5f8b0b1b491",
   "metadata": {},
   "outputs": [
    {
     "name": "stdout",
     "output_type": "stream",
     "text": [
      "# Index sorted BAM alignments\n",
      "(bioinfo) \n",
      "(bioinfo) \n"
     ]
    },
    {
     "ename": "",
     "evalue": "1",
     "output_type": "error",
     "traceback": []
    }
   ],
   "source": [
    "echo \"# Index sorted BAM alignments\"\n",
    "samtools index -@ 72 ERR2663496.sorted.bam\n"
   ]
  },
  {
   "cell_type": "code",
   "execution_count": 68,
   "id": "92f67990-3126-41db-b4cc-13d0ac8125ad",
   "metadata": {
    "tags": []
   },
   "outputs": [
    {
     "name": "stdout",
     "output_type": "stream",
     "text": [
      "# Call SNPs and Indels\n",
      "(bioinfo) \n",
      "Note: none of --samples-file, --ploidy or --ploidy-file given, assuming all sites are diploid\n",
      "[mpileup] 1 samples in 1 input files\n",
      "[mpileup] maximum number of reads per input file set to -d 1000\n",
      "(bioinfo) \n"
     ]
    },
    {
     "ename": "",
     "evalue": "1",
     "output_type": "error",
     "traceback": []
    }
   ],
   "source": [
    "echo \"# Call SNPs and Indels\"\n",
    "bcftools mpileup -d 1000 -Q 20 -Ou -Bf $ref ERR2663496.sorted.bam | bcftools call -cv --threads 72 | bcftools view -v snps -g hom --threads 72 > $rawpath\\/$name\\/5_Mapping/$name\\.raw.vcf\n"
   ]
  },
  {
   "cell_type": "code",
   "execution_count": null,
   "id": "15ba0647-3b19-48ef-bceb-c3ef37782218",
   "metadata": {
    "tags": []
   },
   "outputs": [],
   "source": [
    "# echo Gzip .sam & sorted.bam file\"\n",
    "# pigz -p 72 -f ERR2663496.sam"
   ]
  },
  {
   "cell_type": "code",
   "execution_count": 6,
   "id": "73905ff3-dcf3-4192-a6d8-a3c76e6a0a85",
   "metadata": {
    "tags": []
   },
   "outputs": [
    {
     "name": "stdout",
     "output_type": "stream",
     "text": [
      "# Generate consensus seq\n",
      "(bioinfo) \n",
      "(bioinfo) \n"
     ]
    },
    {
     "ename": "",
     "evalue": "1",
     "output_type": "error",
     "traceback": []
    }
   ],
   "source": [
    "echo \"# Generate consensus seq\"\n",
    "cp ERR2663496.raw.vcf ERR2663496.phageD.vcf"
   ]
  },
  {
   "cell_type": "code",
   "execution_count": 7,
   "id": "c53a963b-4f18-4d0b-ab89-622fea461fce",
   "metadata": {
    "tags": []
   },
   "outputs": [
    {
     "name": "stdout",
     "output_type": "stream",
     "text": [
      "[bgzip] ERR2663496.phageD.vcf.gz already exists; do you wish to overwrite (y or n)? \n",
      "(bioinfo) \n"
     ]
    }
   ],
   "source": [
    "# bgzip --threads 12 ERR2663496.phageD.vcf"
   ]
  },
  {
   "cell_type": "code",
   "execution_count": 8,
   "id": "451c3140-7b4d-43c7-a923-9fe32053e829",
   "metadata": {
    "tags": []
   },
   "outputs": [
    {
     "name": "stdout",
     "output_type": "stream",
     "text": [
      "(bioinfo) \n"
     ]
    },
    {
     "ename": "",
     "evalue": "1",
     "output_type": "error",
     "traceback": []
    }
   ],
   "source": [
    "bcftools index --threads 12 ERR2663496.phageD.vcf.gz"
   ]
  },
  {
   "cell_type": "code",
   "execution_count": 11,
   "id": "5fed50e3-f4f0-4bde-9c16-1b65f21f7ebe",
   "metadata": {
    "tags": []
   },
   "outputs": [
    {
     "name": "stdout",
     "output_type": "stream",
     "text": [
      "(bioinfo) \n",
      "Applied 542 variants\n",
      "(bioinfo) \n"
     ]
    },
    {
     "ename": "",
     "evalue": "1",
     "output_type": "error",
     "traceback": []
    }
   ],
   "source": [
    "bcftools consensus -f $ref ERR2663496.phageD.vcf.gz > ERR2663496.consensus.fasta"
   ]
  }
 ],
 "metadata": {
  "kernelspec": {
   "display_name": "Bash",
   "language": "bash",
   "name": "bash"
  },
  "language_info": {
   "codemirror_mode": "shell",
   "file_extension": ".sh",
   "mimetype": "text/x-sh",
   "name": "bash"
  }
 },
 "nbformat": 4,
 "nbformat_minor": 5
}
