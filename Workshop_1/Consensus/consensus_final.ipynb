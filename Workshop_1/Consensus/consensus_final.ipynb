{
 "cells": [
  {
   "cell_type": "markdown",
   "id": "db0adfc1-d2c3-4c6f-9d92-2dc041f3c6ed",
   "metadata": {},
   "source": [
    "# **Activate Conda Environment**"
   ]
  },
  {
   "cell_type": "code",
   "execution_count": 32,
   "id": "fd98fad5-65dc-461a-a967-0cb9bd89e259",
   "metadata": {},
   "outputs": [
    {
     "name": "stdout",
     "output_type": "stream",
     "text": [
      "(bioinfo) \n"
     ]
    },
    {
     "ename": "",
     "evalue": "1",
     "output_type": "error",
     "traceback": []
    }
   ],
   "source": [
    "conda activate bioinfo"
   ]
  },
  {
   "cell_type": "markdown",
   "id": "30303aae-56d8-4387-9393-37c853cfbede",
   "metadata": {},
   "source": [
    "## **Create variable name as Ref_Typhi for Reference deroctory location** ##\n",
    "## **Create variable name as ref for reference file** ##"
   ]
  },
  {
   "cell_type": "code",
   "execution_count": 33,
   "id": "d7bd297e-3fb0-4775-b671-8128412da0be",
   "metadata": {
    "tags": []
   },
   "outputs": [
    {
     "name": "stdout",
     "output_type": "stream",
     "text": [
      "(bioinfo) \n",
      "(bioinfo) \n"
     ]
    },
    {
     "ename": "",
     "evalue": "1",
     "output_type": "error",
     "traceback": []
    }
   ],
   "source": [
    "Ref_Typhi='/home/asus/Desktop/CHRF_Project/Bioinformatics_Traning/Advance_Bioinformatics_Traning/Consensus/Reference_Sequence'\n",
    "REF=$Ref_Typhi/Ref_Typhi.fa"
   ]
  },
  {
   "cell_type": "markdown",
   "id": "e3e9e127-3573-47b1-862b-8108aca3929d",
   "metadata": {},
   "source": [
    "## **Check variable** ##"
   ]
  },
  {
   "cell_type": "code",
   "execution_count": 34,
   "id": "51ad1560-50f5-44bc-b213-86b6d1d0245b",
   "metadata": {},
   "outputs": [
    {
     "name": "stdout",
     "output_type": "stream",
     "text": [
      "/home/asus/Desktop/CHRF_Project/Bioinformatics_Traning/Advance_Bioinformatics_Traning/Consensus/Reference_Sequence\n",
      "(bioinfo) \n",
      "/home/asus/Desktop/CHRF_Project/Bioinformatics_Traning/Advance_Bioinformatics_Traning/Consensus/Reference_Sequence/Ref_Typhi.fa\n",
      "(bioinfo) \n"
     ]
    },
    {
     "ename": "",
     "evalue": "1",
     "output_type": "error",
     "traceback": []
    }
   ],
   "source": [
    "echo \"$Ref_Typhi\"\n",
    "echo \"$REF\""
   ]
  },
  {
   "cell_type": "markdown",
   "id": "639b6b9f-5523-4358-940d-c127313397b2",
   "metadata": {},
   "source": [
    "## **Compress the vcf file for indexing** ##"
   ]
  },
  {
   "cell_type": "code",
   "execution_count": 35,
   "id": "ceafcd36-80dd-4127-b2db-22001be85848",
   "metadata": {
    "tags": []
   },
   "outputs": [
    {
     "name": "stdout",
     "output_type": "stream",
     "text": [
      "mv: cannot stat 'final_variants.vcf': No such file or directory\n",
      "(bioinfo) \n"
     ]
    },
    {
     "ename": "",
     "evalue": "1",
     "output_type": "error",
     "traceback": []
    }
   ],
   "source": [
    "mv final_variants.vcf ERR2663496.raw.vcf"
   ]
  },
  {
   "cell_type": "code",
   "execution_count": 29,
   "id": "c53a963b-4f18-4d0b-ab89-622fea461fce",
   "metadata": {
    "tags": []
   },
   "outputs": [
    {
     "name": "stdout",
     "output_type": "stream",
     "text": [
      "(bioinfo) \n"
     ]
    },
    {
     "ename": "",
     "evalue": "1",
     "output_type": "error",
     "traceback": []
    }
   ],
   "source": [
    "bgzip --threads 12  ERR2663496.raw.vcf"
   ]
  },
  {
   "cell_type": "markdown",
   "id": "aebceba4-7b86-4e65-8dba-b877e2ee9df2",
   "metadata": {},
   "source": [
    "## **Create Index of compress vcf file** ##"
   ]
  },
  {
   "cell_type": "code",
   "execution_count": 30,
   "id": "451c3140-7b4d-43c7-a923-9fe32053e829",
   "metadata": {
    "tags": []
   },
   "outputs": [
    {
     "name": "stdout",
     "output_type": "stream",
     "text": [
      "(bioinfo) \n"
     ]
    },
    {
     "ename": "",
     "evalue": "1",
     "output_type": "error",
     "traceback": []
    }
   ],
   "source": [
    "bcftools index --threads 12 ERR2663496.raw.vcf.gz"
   ]
  },
  {
   "cell_type": "markdown",
   "id": "73bdb079-07e1-41dc-afdb-da789a1b5adb",
   "metadata": {},
   "source": [
    "## **Generate consensus from indexed vcf file using Reference Sequence** ##"
   ]
  },
  {
   "cell_type": "code",
   "execution_count": 31,
   "id": "5fed50e3-f4f0-4bde-9c16-1b65f21f7ebe",
   "metadata": {
    "tags": []
   },
   "outputs": [
    {
     "name": "stdout",
     "output_type": "stream",
     "text": [
      "Warning: Sequence \"NC_003198.1\" not in ERR2663496.raw.vcf.gz\n",
      "Applied 0 variants\n",
      "(bioinfo) \n"
     ]
    },
    {
     "ename": "",
     "evalue": "1",
     "output_type": "error",
     "traceback": []
    }
   ],
   "source": [
    "bcftools consensus -f $REF ERR2663496.raw.vcf.gz > ERR2663496.consensus.fasta"
   ]
  },
  {
   "cell_type": "code",
   "execution_count": null,
   "id": "346ec90e-500e-4bc8-87a8-b23b90af632e",
   "metadata": {},
   "outputs": [],
   "source": []
  }
 ],
 "metadata": {
  "kernelspec": {
   "display_name": "Bash",
   "language": "bash",
   "name": "bash"
  },
  "language_info": {
   "codemirror_mode": "shell",
   "file_extension": ".sh",
   "mimetype": "text/x-sh",
   "name": "bash"
  }
 },
 "nbformat": 4,
 "nbformat_minor": 5
}
