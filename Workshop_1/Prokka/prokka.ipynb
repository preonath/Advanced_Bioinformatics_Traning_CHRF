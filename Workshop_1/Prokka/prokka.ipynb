{
 "cells": [
  {
   "cell_type": "markdown",
   "id": "af4e1a89-7815-4b1d-87a9-7e984cf1b89a",
   "metadata": {
    "tags": []
   },
   "source": [
    "![Cat](4.png)"
   ]
  },
  {
   "cell_type": "markdown",
   "id": "f911e9d6-1e41-4493-83c5-6e4daf77b98e",
   "metadata": {},
   "source": [
    "# **Prokka**\n",
    "\n",
    "**Authors:** Torsten Seemann\n",
    "\n",
    "**Year:** 2014\n",
    "\n",
    "\n",
    "## **Use of the tool:** ## \n",
    "\n",
    ">- **Prokka is a bioinformatics tool used for**\n",
    ">>- **automated annotation of bacterial, archaeal, and viral genomes.** \n",
    ">- **It predicts genes, functional annotations, and genomic features.**\n",
    "\n",
    "\n",
    "## **How the tool works:** ##\n",
    "\n",
    ">- **It starts by identifying coding sequences (CDS) using Prodigal, a fast and accurate gene prediction tool.**\n",
    ">- **It then performs homology searches using**\n",
    ">>- **BLAST and HMMER against various databases to assign functional annotations to the predicted genes.**\n",
    ">- **Additionally, Prokka predicts non-coding RNA features,** \n",
    ">>- **such as rRNA and tRNA, using specialized tools.** \n",
    ">- **The output is a fully annotated genome in GenBank format.**\n",
    "\n",
    "## **Installation**\n",
    "\n",
    "```bash\n",
    "conda install -c bioconda prokka\n",
    "\n",
    "```\n",
    "\n",
    "## **Input files**\n",
    "\n",
    "To run Prokka, you need a FASTA file containing the genomic sequence of the prokaryotic organism you want to annotate. The input file should be in nucleotide sequence format.\n",
    "\n",
    "\n",
    "```bash\n",
    "assembly.fasta\n",
    "```\n",
    "\n",
    "### **File format specifics:** \n",
    "\n",
    "Prokka accepts standard nucleotide FASTA format for the input genome sequence. It can handle both complete genomes and draft assemblies.\n",
    "\n",
    "## **Standard use:** \n",
    "\n",
    "\n",
    "```bash\n",
    "prokka --outdir <output_directory> --prefix <output_prefix> <input_genome.fasta>  \n",
    "\n",
    "```\n",
    "\n",
    "\n",
    "\n",
    "### **Options used in the command:**\n",
    "\n",
    "- `--outdir <output_directory>`: Specifies the directory where the output files will be saved.\n",
    "- `--prefix <output_prefix>`: Specifies the prefix used for the output file names.\n",
    "- `<input_genome.fasta>`: Specifies the input genome sequence file in FASTA format.\n",
    "\n",
    "\n",
    "## **Results:** ##\n",
    "\n",
    "The output result files of Prokka include:\n",
    "- `<output_prefix>.gff`: The annotation results in General Feature Format (GFF).\n",
    "- `<output_prefix>.gbk`: The annotated genome in GenBank format.\n",
    "- `<output_prefix>.fna`: The nucleotide sequence file of the annotated genome multifasta.\n",
    "- `<output_prefix>.faa`: The amino acid sequence file of the predicted protein-coding genes."
   ]
  },
  {
   "cell_type": "code",
   "execution_count": 1,
   "id": "54853b48-0051-4a52-98ad-6793af136a7c",
   "metadata": {
    "tags": []
   },
   "outputs": [
    {
     "name": "stdout",
     "output_type": "stream",
     "text": [
      "(bioinfo) \n"
     ]
    },
    {
     "ename": "",
     "evalue": "1",
     "output_type": "error",
     "traceback": []
    }
   ],
   "source": [
    "conda activate bioinfo"
   ]
  },
  {
   "cell_type": "code",
   "execution_count": null,
   "id": "d7e42d5a-4923-4a4f-a05d-8c4dc9aad9fd",
   "metadata": {
    "tags": []
   },
   "outputs": [
    {
     "name": "stdout",
     "output_type": "stream",
     "text": [
      "(bioinfo) \n"
     ]
    }
   ],
   "source": [
    "conda activate bioinfo\n",
    "prokka \\\n",
    "ERR2663496.fasta \\"
   ]
  },
  {
   "cell_type": "code",
   "execution_count": 5,
   "id": "96833b9b-8916-41cd-9f8a-396dd70086ad",
   "metadata": {
    "tags": []
   },
   "outputs": [
    {
     "name": "stdout",
     "output_type": "stream",
     "text": [
      "(bioinfo) \n",
      "Argument \"1.7.8\" isn't numeric in numeric lt (<) at /home/asus/miniconda3/envs/bioinfo/bin/prokka line 259.\n",
      "[tbl2asn-forever] Found Prokka input, correcting dates in .gbf|.sqn files.\n",
      "[tbl2asn-forever] Correcting dates in ./prokka/ERR2663496.gbf\n",
      "[tbl2asn-forever] Correcting dates in ./prokka/ERR2663496.sqn\n",
      "[tbl2asn-forever] Dates changed from 01-JAN-2019 to 12-JUN-2023\n",
      "(bioinfo) \n"
     ]
    },
    {
     "ename": "",
     "evalue": "1",
     "output_type": "error",
     "traceback": []
    }
   ],
   "source": [
    "prokka \\\n",
    "Unicycler_Result/assembly.fasta \\\n",
    "--outdir ./prokka \\\n",
    "--cpus 16 \\\n",
    "--gcode 11"
   ]
  },
  {
   "cell_type": "code",
   "execution_count": null,
   "id": "753215fd-c4d8-4621-9d8d-a818ddc17deb",
   "metadata": {},
   "outputs": [],
   "source": []
  }
 ],
 "metadata": {
  "kernelspec": {
   "display_name": "Bash",
   "language": "bash",
   "name": "bash"
  },
  "language_info": {
   "codemirror_mode": "shell",
   "file_extension": ".sh",
   "mimetype": "text/x-sh",
   "name": "bash"
  }
 },
 "nbformat": 4,
 "nbformat_minor": 5
}
