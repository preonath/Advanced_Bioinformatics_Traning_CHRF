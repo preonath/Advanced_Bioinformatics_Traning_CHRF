{
 "cells": [
  {
   "cell_type": "code",
   "execution_count": 4,
   "id": "30b83e6e-d2f9-484f-9d0a-390695df810f",
   "metadata": {
    "tags": []
   },
   "outputs": [
    {
     "data": {
      "text/html": [
       "<div style=\"display: flex; justify-content: center;\"><img src=\"genome-annotation.webp\" width=\"400\"></div>"
      ],
      "text/plain": [
       "<IPython.core.display.HTML object>"
      ]
     },
     "metadata": {},
     "output_type": "display_data"
    }
   ],
   "source": [
    "from IPython.display import HTML\n",
    "\n",
    "image_path = 'genome-annotation.webp'\n",
    "\n",
    "display(HTML(html))\n"
   ]
  },
  {
   "cell_type": "markdown",
   "id": "f911e9d6-1e41-4493-83c5-6e4daf77b98e",
   "metadata": {},
   "source": [
    "# **Prokka**\n",
    "\n",
    "**Authors:** Torsten Seemann\n",
    "\n",
    "**Year:** 2014\n",
    "\n",
    "\n",
    "## **Use of the tool:** ## \n",
    "\n",
    ">- **Prokka is a bioinformatics tool used for**\n",
    ">>- **automated annotation of bacterial, archaeal, and viral genomes.** \n",
    ">- **It predicts genes, functional annotations, and genomic features.**\n",
    "\n",
    "\n",
    "## **How the tool works:** ##\n",
    "\n",
    ">- **It starts by identifying coding sequences (CDS) using Prodigal, a fast and accurate gene prediction tool.**\n",
    ">- **It then performs homology searches using**\n",
    ">>- **BLAST and HMMER against various databases to assign functional annotations to the predicted genes.**\n",
    ">- **Additionally, Prokka predicts non-coding RNA features,** \n",
    ">>- **such as rRNA and tRNA, using specialized tools.** \n",
    ">- **The output is a fully annotated genome in GenBank format.**\n",
    "\n",
    "## **Installation**\n",
    "\n",
    "```bash\n",
    "conda install -c bioconda prokka\n",
    "\n",
    "```\n",
    "\n",
    "## **Input files**\n",
    "\n",
    "To run Prokka, you need a FASTA file containing the genomic sequence of the prokaryotic organism you want to annotate. The input file should be in nucleotide sequence format.\n",
    "\n",
    "\n",
    "```bash\n",
    "assembly.fasta\n",
    "```\n",
    "\n",
    "### **File format specifics:** \n",
    "\n",
    "Prokka accepts standard nucleotide FASTA format for the input genome sequence. It can handle both complete genomes and draft assemblies.\n",
    "\n",
    "## **Standard use:** \n",
    "\n",
    "\n",
    "```bash\n",
    "prokka --outdir <output_directory> --prefix <output_prefix> <input_genome.fasta>  \n",
    "\n",
    "```\n",
    "\n",
    "\n",
    "\n",
    "### **Options used in the command:**\n",
    "\n",
    "- `--outdir <output_directory>`: Specifies the directory where the output files will be saved.\n",
    "- `--prefix <output_prefix>`: Specifies the prefix used for the output file names.\n",
    "- `<input_genome.fasta>`: Specifies the input genome sequence file in FASTA format.\n",
    "\n",
    "\n",
    "## **Results:** ##\n",
    "\n",
    "The output result files of Prokka include:\n",
    "- `<output_prefix>.gff`: The annotation results in General Feature Format (GFF).\n",
    "- `<output_prefix>.gbk`: The annotated genome in GenBank format.\n",
    "- `<output_prefix>.fna`: The nucleotide sequence file of the annotated genome.\n",
    "- `<output_prefix>.faa`: The amino acid sequence file of the predicted protein-coding genes."
   ]
  },
  {
   "cell_type": "code",
   "execution_count": null,
   "id": "32d9eda3-5e97-4682-a965-c9453e709151",
   "metadata": {},
   "outputs": [],
   "source": [
    "rawpath=\"/home/asus/Desktop/CHRF_Project/Bioinformatics_Traning/Advance_Bioinformatics_Traning/Data\""
   ]
  },
  {
   "cell_type": "code",
   "execution_count": null,
   "id": "96833b9b-8916-41cd-9f8a-396dd70086ad",
   "metadata": {},
   "outputs": [],
   "source": [
    "prokka /\n",
    "    $rawpath\\/$name\\/3_Unicycler\\/$name\\_contigs.fasta /\n",
    "    --outdir $rawpath\\/$name\\/4_Prokka/prokka /\n",
    "    --cpus 90 /\n",
    "    --gcode 11 /\n",
    "    --prefix $name /\n",
    "    --locustag $name /\n",
    "    --quiet  /\n",
    "    --force /\n"
   ]
  }
 ],
 "metadata": {
  "kernelspec": {
   "display_name": "Python 3 (ipykernel)",
   "language": "python",
   "name": "python3"
  },
  "language_info": {
   "codemirror_mode": {
    "name": "ipython",
    "version": 3
   },
   "file_extension": ".py",
   "mimetype": "text/x-python",
   "name": "python",
   "nbconvert_exporter": "python",
   "pygments_lexer": "ipython3",
   "version": "3.8.16"
  }
 },
 "nbformat": 4,
 "nbformat_minor": 5
}
