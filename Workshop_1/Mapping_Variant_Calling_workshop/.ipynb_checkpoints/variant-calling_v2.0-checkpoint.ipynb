{
 "cells": [
  {
   "cell_type": "markdown",
   "metadata": {},
   "source": [
    "## Activate Bioinfo Conda Environment"
   ]
  },
  {
   "cell_type": "code",
   "execution_count": 1,
   "metadata": {
    "tags": [],
    "vscode": {
     "languageId": "shellscript"
    }
   },
   "outputs": [
    {
     "name": "stdout",
     "output_type": "stream",
     "text": [
      "(bioinfo) \n"
     ]
    },
    {
     "ename": "",
     "evalue": "1",
     "output_type": "error",
     "traceback": []
    }
   ],
   "source": [
    "# Activate conda env\n",
    "conda activate bioinfo"
   ]
  },
  {
   "cell_type": "markdown",
   "metadata": {},
   "source": [
    "# Variant Calling"
   ]
  },
  {
   "cell_type": "markdown",
   "metadata": {},
   "source": [
    "## Step-1: Index the Reference"
   ]
  },
  {
   "cell_type": "code",
   "execution_count": 2,
   "metadata": {
    "tags": [],
    "vscode": {
     "languageId": "shellscript"
    }
   },
   "outputs": [
    {
     "name": "stdout",
     "output_type": "stream",
     "text": [
      "(bioinfo) \n",
      "[bwa_index] Pack FASTA... 0.03 sec\n",
      "[bwa_index] Construct BWT for the packed sequence...\n",
      "[bwa_index] 0.72 seconds elapse.\n",
      "[bwa_index] Update BWT... 0.02 sec\n",
      "[bwa_index] Pack forward-only FASTA... 0.02 sec\n",
      "[bwa_index] Construct SA from BWT and Occ... 0.33 sec\n",
      "[main] Version: 0.7.17-r1188\n",
      "[main] CMD: bwa index refs/Typhi_CT18.fasta\n",
      "[main] Real time: 1.131 sec; CPU: 1.114 sec\n",
      "(bioinfo) \n",
      "(bioinfo) \n",
      "(bioinfo) \n",
      "(bioinfo) \n"
     ]
    },
    {
     "ename": "",
     "evalue": "1",
     "output_type": "error",
     "traceback": []
    }
   ],
   "source": [
    "# Index reference for the aligner.\n",
    "bwa index refs/Typhi_CT18.fasta\n",
    "\n",
    "# Index the reference genome for IGV\n",
    "samtools faidx refs/Typhi_CT18.fasta"
   ]
  },
  {
   "cell_type": "markdown",
   "metadata": {
    "vscode": {
     "languageId": "shellscript"
    }
   },
   "source": [
    "## Step-2: Perform Short Read Alignment"
   ]
  },
  {
   "cell_type": "code",
   "execution_count": 3,
   "metadata": {
    "tags": []
   },
   "outputs": [
    {
     "name": "stdout",
     "output_type": "stream",
     "text": [
      "(bioinfo) \n",
      "(bioinfo) \n"
     ]
    },
    {
     "ename": "",
     "evalue": "1",
     "output_type": "error",
     "traceback": []
    }
   ],
   "source": [
    "# Create Intermediate Output folder\n",
    "mkdir -p other_outputs"
   ]
  },
  {
   "cell_type": "code",
   "execution_count": 4,
   "metadata": {
    "collapsed": true,
    "jupyter": {
     "outputs_hidden": true
    },
    "tags": []
   },
   "outputs": [
    {
     "name": "stdout",
     "output_type": "stream",
     "text": [
      "(bioinfo) \n",
      "[M::bwa_idx_load_from_disk] read 0 ALT contigs\n",
      "[M::process] read 928990 sequences (140000257 bp)...\n",
      "[M::process] read 929018 sequences (140000066 bp)...\n",
      "[M::mem_pestat] # candidate unique pairs for (FF, FR, RF, RR): (6850, 424127, 197, 6859)\n",
      "[M::mem_pestat] analyzing insert size distribution for orientation FF...\n",
      "[M::mem_pestat] (25, 50, 75) percentile: (149, 303, 862)\n",
      "[M::mem_pestat] low and high boundaries for computing mean and std.dev: (1, 2288)\n",
      "[M::mem_pestat] mean and std.dev: (458.12, 479.91)\n",
      "[M::mem_pestat] low and high boundaries for proper pairs: (1, 3001)\n",
      "[M::mem_pestat] analyzing insert size distribution for orientation FR...\n",
      "[M::mem_pestat] (25, 50, 75) percentile: (64, 116, 193)\n",
      "[M::mem_pestat] low and high boundaries for computing mean and std.dev: (1, 451)\n",
      "[M::mem_pestat] mean and std.dev: (136.35, 89.56)\n",
      "[M::mem_pestat] low and high boundaries for proper pairs: (1, 580)\n",
      "[M::mem_pestat] analyzing insert size distribution for orientation RF...\n",
      "[M::mem_pestat] (25, 50, 75) percentile: (282, 1048, 3592)\n",
      "[M::mem_pestat] low and high boundaries for computing mean and std.dev: (1, 10212)\n",
      "[M::mem_pestat] mean and std.dev: (2012.05, 2154.25)\n",
      "[M::mem_pestat] low and high boundaries for proper pairs: (1, 13522)\n",
      "[M::mem_pestat] analyzing insert size distribution for orientation RR...\n",
      "[M::mem_pestat] (25, 50, 75) percentile: (149, 309, 867)\n",
      "[M::mem_pestat] low and high boundaries for computing mean and std.dev: (1, 2303)\n",
      "[M::mem_pestat] mean and std.dev: (453.20, 470.93)\n",
      "[M::mem_pestat] low and high boundaries for proper pairs: (1, 3021)\n",
      "[M::mem_pestat] skip orientation FF\n",
      "[M::mem_pestat] skip orientation RF\n",
      "[M::mem_pestat] skip orientation RR\n",
      "[M::mem_process_seqs] Processed 928990 reads in 76.614 CPU sec, 5.439 real sec\n",
      "[M::process] read 929014 sequences (140000044 bp)...\n",
      "[M::mem_pestat] # candidate unique pairs for (FF, FR, RF, RR): (6847, 425277, 195, 6836)\n",
      "[M::mem_pestat] analyzing insert size distribution for orientation FF...\n",
      "[M::mem_pestat] (25, 50, 75) percentile: (150, 307, 875)\n",
      "[M::mem_pestat] low and high boundaries for computing mean and std.dev: (1, 2325)\n",
      "[M::mem_pestat] mean and std.dev: (464.01, 485.21)\n",
      "[M::mem_pestat] low and high boundaries for proper pairs: (1, 3050)\n",
      "[M::mem_pestat] analyzing insert size distribution for orientation FR...\n",
      "[M::mem_pestat] (25, 50, 75) percentile: (65, 118, 194)\n",
      "[M::mem_pestat] low and high boundaries for computing mean and std.dev: (1, 452)\n",
      "[M::mem_pestat] mean and std.dev: (137.16, 89.60)\n",
      "[M::mem_pestat] low and high boundaries for proper pairs: (1, 581)\n",
      "[M::mem_pestat] analyzing insert size distribution for orientation RF...\n",
      "[M::mem_pestat] (25, 50, 75) percentile: (326, 930, 2124)\n",
      "[M::mem_pestat] low and high boundaries for computing mean and std.dev: (1, 5720)\n",
      "[M::mem_pestat] mean and std.dev: (1243.21, 1227.21)\n",
      "[M::mem_pestat] low and high boundaries for proper pairs: (1, 7518)\n",
      "[M::mem_pestat] analyzing insert size distribution for orientation RR...\n",
      "[M::mem_pestat] (25, 50, 75) percentile: (153, 312, 913)\n",
      "[M::mem_pestat] low and high boundaries for computing mean and std.dev: (1, 2433)\n",
      "[M::mem_pestat] mean and std.dev: (486.70, 529.86)\n",
      "[M::mem_pestat] low and high boundaries for proper pairs: (1, 3193)\n",
      "[M::mem_pestat] skip orientation FF\n",
      "[M::mem_pestat] skip orientation RF\n",
      "[M::mem_pestat] skip orientation RR\n",
      "[M::mem_process_seqs] Processed 929018 reads in 76.251 CPU sec, 5.366 real sec\n",
      "[M::process] read 929012 sequences (140000025 bp)...\n",
      "[M::mem_pestat] # candidate unique pairs for (FF, FR, RF, RR): (6581, 425252, 194, 6764)\n",
      "[M::mem_pestat] analyzing insert size distribution for orientation FF...\n",
      "[M::mem_pestat] (25, 50, 75) percentile: (145, 293, 883)\n",
      "[M::mem_pestat] low and high boundaries for computing mean and std.dev: (1, 2359)\n",
      "[M::mem_pestat] mean and std.dev: (460.29, 501.39)\n",
      "[M::mem_pestat] low and high boundaries for proper pairs: (1, 3097)\n",
      "[M::mem_pestat] analyzing insert size distribution for orientation FR...\n",
      "[M::mem_pestat] (25, 50, 75) percentile: (65, 117, 191)\n",
      "[M::mem_pestat] low and high boundaries for computing mean and std.dev: (1, 443)\n",
      "[M::mem_pestat] mean and std.dev: (135.83, 87.81)\n",
      "[M::mem_pestat] low and high boundaries for proper pairs: (1, 569)\n",
      "[M::mem_pestat] analyzing insert size distribution for orientation RF...\n",
      "[M::mem_pestat] (25, 50, 75) percentile: (327, 988, 3053)\n",
      "[M::mem_pestat] low and high boundaries for computing mean and std.dev: (1, 8505)\n",
      "[M::mem_pestat] mean and std.dev: (1835.37, 1952.50)\n",
      "[M::mem_pestat] low and high boundaries for proper pairs: (1, 11231)\n",
      "[M::mem_pestat] analyzing insert size distribution for orientation RR...\n",
      "[M::mem_pestat] (25, 50, 75) percentile: (146, 293, 883)\n",
      "[M::mem_pestat] low and high boundaries for computing mean and std.dev: (1, 2357)\n",
      "[M::mem_pestat] mean and std.dev: (460.04, 493.23)\n",
      "[M::mem_pestat] low and high boundaries for proper pairs: (1, 3094)\n",
      "[M::mem_pestat] skip orientation FF\n",
      "[M::mem_pestat] skip orientation RF\n",
      "[M::mem_pestat] skip orientation RR\n",
      "[M::mem_process_seqs] Processed 929014 reads in 75.805 CPU sec, 5.316 real sec\n",
      "[M::process] read 559352 sequences (84291755 bp)...\n",
      "[M::mem_pestat] # candidate unique pairs for (FF, FR, RF, RR): (6383, 425175, 179, 6613)\n",
      "[M::mem_pestat] analyzing insert size distribution for orientation FF...\n",
      "[M::mem_pestat] (25, 50, 75) percentile: (144, 288, 830)\n",
      "[M::mem_pestat] low and high boundaries for computing mean and std.dev: (1, 2202)\n",
      "[M::mem_pestat] mean and std.dev: (436.40, 463.93)\n",
      "[M::mem_pestat] low and high boundaries for proper pairs: (1, 2888)\n",
      "[M::mem_pestat] analyzing insert size distribution for orientation FR...\n",
      "[M::mem_pestat] (25, 50, 75) percentile: (65, 117, 191)\n",
      "[M::mem_pestat] low and high boundaries for computing mean and std.dev: (1, 443)\n",
      "[M::mem_pestat] mean and std.dev: (135.75, 87.72)\n",
      "[M::mem_pestat] low and high boundaries for proper pairs: (1, 569)\n",
      "[M::mem_pestat] analyzing insert size distribution for orientation RF...\n",
      "[M::mem_pestat] (25, 50, 75) percentile: (218, 998, 2414)\n",
      "[M::mem_pestat] low and high boundaries for computing mean and std.dev: (1, 6806)\n",
      "[M::mem_pestat] mean and std.dev: (1427.08, 1531.75)\n",
      "[M::mem_pestat] low and high boundaries for proper pairs: (1, 9002)\n",
      "[M::mem_pestat] analyzing insert size distribution for orientation RR...\n",
      "[M::mem_pestat] (25, 50, 75) percentile: (147, 286, 839)\n",
      "[M::mem_pestat] low and high boundaries for computing mean and std.dev: (1, 2223)\n",
      "[M::mem_pestat] mean and std.dev: (440.65, 470.82)\n",
      "[M::mem_pestat] low and high boundaries for proper pairs: (1, 2915)\n",
      "[M::mem_pestat] skip orientation FF\n",
      "[M::mem_pestat] skip orientation RF\n",
      "[M::mem_pestat] skip orientation RR\n",
      "[M::mem_process_seqs] Processed 929012 reads in 75.165 CPU sec, 5.390 real sec\n",
      "[M::mem_pestat] # candidate unique pairs for (FF, FR, RF, RR): (3971, 256583, 97, 3877)\n",
      "[M::mem_pestat] analyzing insert size distribution for orientation FF...\n",
      "[M::mem_pestat] (25, 50, 75) percentile: (144, 283, 919)\n",
      "[M::mem_pestat] low and high boundaries for computing mean and std.dev: (1, 2469)\n",
      "[M::mem_pestat] mean and std.dev: (479.81, 540.12)\n",
      "[M::mem_pestat] low and high boundaries for proper pairs: (1, 3244)\n",
      "[M::mem_pestat] analyzing insert size distribution for orientation FR...\n",
      "[M::mem_pestat] (25, 50, 75) percentile: (65, 117, 191)\n",
      "[M::mem_pestat] low and high boundaries for computing mean and std.dev: (1, 443)\n",
      "[M::mem_pestat] mean and std.dev: (135.51, 87.00)\n",
      "[M::mem_pestat] low and high boundaries for proper pairs: (1, 569)\n",
      "[M::mem_pestat] analyzing insert size distribution for orientation RF...\n",
      "[M::mem_pestat] (25, 50, 75) percentile: (326, 1276, 2662)\n",
      "[M::mem_pestat] low and high boundaries for computing mean and std.dev: (1, 7334)\n",
      "[M::mem_pestat] mean and std.dev: (1635.42, 1491.31)\n",
      "[M::mem_pestat] low and high boundaries for proper pairs: (1, 9670)\n",
      "[M::mem_pestat] analyzing insert size distribution for orientation RR...\n",
      "[M::mem_pestat] (25, 50, 75) percentile: (152, 302, 807)\n",
      "[M::mem_pestat] low and high boundaries for computing mean and std.dev: (1, 2117)\n",
      "[M::mem_pestat] mean and std.dev: (442.84, 453.98)\n",
      "[M::mem_pestat] low and high boundaries for proper pairs: (1, 2772)\n",
      "[M::mem_pestat] skip orientation FF\n",
      "[M::mem_pestat] skip orientation RF\n",
      "[M::mem_pestat] skip orientation RR\n",
      "[M::mem_process_seqs] Processed 559352 reads in 43.809 CPU sec, 3.133 real sec\n",
      "[main] Version: 0.7.17-r1188\n",
      "[main] CMD: bwa mem -t 14 refs/Typhi_CT18.fasta data/STY_0014_R1.fastq.gz data/STY_0014_R2.fastq.gz\n",
      "[main] Real time: 27.009 sec; CPU: 349.633 sec\n",
      "(bioinfo) \n"
     ]
    },
    {
     "ename": "",
     "evalue": "1",
     "output_type": "error",
     "traceback": []
    }
   ],
   "source": [
    "# Short Read Alignment\n",
    "bwa mem \\\n",
    "    -t 14 \\\n",
    "    refs/Typhi_CT18.fasta \\\n",
    "    data/STY_0014_R1.fastq.gz \\\n",
    "    data/STY_0014_R2.fastq.gz \\\n",
    "    > other_outputs/STY_0014.sam"
   ]
  },
  {
   "cell_type": "code",
   "execution_count": 5,
   "metadata": {
    "tags": []
   },
   "outputs": [
    {
     "name": "stdout",
     "output_type": "stream",
     "text": [
      "(bioinfo) \n",
      "[bam_sort_core] merging from 0 files and 14 in-memory blocks...\n",
      "(bioinfo) \n"
     ]
    },
    {
     "ename": "",
     "evalue": "1",
     "output_type": "error",
     "traceback": []
    }
   ],
   "source": [
    "# Convert SAM file to sorted BAM\n",
    "samtools sort -@ 14 other_outputs/STY_0014.sam -o other_outputs/STY_0014.sorted.bam"
   ]
  },
  {
   "cell_type": "code",
   "execution_count": 6,
   "metadata": {
    "tags": []
   },
   "outputs": [
    {
     "name": "stdout",
     "output_type": "stream",
     "text": [
      "(bioinfo) \n",
      "(bioinfo) \n"
     ]
    },
    {
     "ename": "",
     "evalue": "1",
     "output_type": "error",
     "traceback": []
    }
   ],
   "source": [
    "# Index the BAM file.\n",
    "samtools index other_outputs/STY_0014.sorted.bam"
   ]
  },
  {
   "cell_type": "markdown",
   "metadata": {
    "jupyter": {
     "outputs_hidden": true
    },
    "tags": [],
    "vscode": {
     "languageId": "shellscript"
    }
   },
   "source": [
    "Align and generate a BAM file directly  \n",
    "`bwa mem -t 14 $REF $R1 $R2 | samtools sort > $BAM`"
   ]
  },
  {
   "cell_type": "markdown",
   "metadata": {},
   "source": [
    "## Step-3: Call variants"
   ]
  },
  {
   "cell_type": "code",
   "execution_count": 7,
   "metadata": {
    "collapsed": true,
    "jupyter": {
     "outputs_hidden": true
    },
    "tags": []
   },
   "outputs": [
    {
     "name": "stdout",
     "output_type": "stream",
     "text": [
      "\n",
      "Usage: bcftools mpileup [options] in1.bam [in2.bam [...]]\n",
      "\n",
      "Input options:\n",
      "  -6, --illumina1.3+      Quality is in the Illumina-1.3+ encoding\n",
      "  -A, --count-orphans     Do not discard anomalous read pairs\n",
      "  -b, --bam-list FILE     List of input BAM filenames, one per line\n",
      "  -B, --no-BAQ            Disable BAQ (per-Base Alignment Quality)\n",
      "  -C, --adjust-MQ INT     Adjust mapping quality [0]\n",
      "  -D, --full-BAQ          Apply BAQ everywhere, not just in problematic regions\n",
      "  -d, --max-depth INT     Max raw per-file depth; avoids excessive memory usage [250]\n",
      "  -E, --redo-BAQ          Recalculate BAQ on the fly, ignore existing BQs\n",
      "  -f, --fasta-ref FILE    Faidx indexed reference sequence file\n",
      "      --no-reference      Do not require fasta reference file\n",
      "  -G, --read-groups FILE  Select or exclude read groups listed in the file\n",
      "  -q, --min-MQ INT        Skip alignments with mapQ smaller than INT [0]\n",
      "  -Q, --min-BQ INT        Skip bases with baseQ/BAQ smaller than INT [1]\n",
      "      --max-BQ INT        Limit baseQ/BAQ to no more than INT [60]\n",
      "      --delta-BQ INT      Use neighbour_qual + INT if less than qual [30]\n",
      "  -r, --regions REG[,...] Comma separated list of regions in which pileup is generated\n",
      "  -R, --regions-file FILE Restrict to regions listed in a file\n",
      "      --ignore-RG         Ignore RG tags (one BAM = one sample)\n",
      "  --ls, --skip-all-set STR|INT  Skip reads with all of the bits set []\n",
      "  --ns, --skip-any-set STR|INT  Skip reads with any of the bits set [UNMAP,SECONDARY,QCFAIL,DUP]\n",
      "  --lu, --skip-all-unset STR|INT  Skip reads with all of the bits unset []\n",
      "  --nu, --skip-any-unset STR|INT  Skip reads with any of the bits unset []\n",
      "  -s, --samples LIST      Comma separated list of samples to include\n",
      "  -S, --samples-file FILE File of samples to include\n",
      "  -t, --targets REG[,...] Similar to -r but streams rather than index-jumps\n",
      "  -T, --targets-file FILE Similar to -R but streams rather than index-jumps\n",
      "  -x, --ignore-overlaps   Disable read-pair overlap detection\n",
      "      --seed INT          Random number seed used for sampling deep regions [0]\n",
      "\n",
      "Output options:\n",
      "  -a, --annotate LIST     Optional tags to output; '\\?' to list available tags []\n",
      "  -g, --gvcf INT[,...]    Group non-variant sites into gVCF blocks according\n",
      "                          To minimum per-sample DP\n",
      "      --no-version        Do not append version and command line to the header\n",
      "  -o, --output FILE       Write output to FILE [standard output]\n",
      "  -O, --output-type TYPE  'b' compressed BCF; 'u' uncompressed BCF;\n",
      "                          'z' compressed VCF; 'v' uncompressed VCF; 0-9 compression level [v]\n",
      "  -U, --mwu-u             Use older probability scale for Mann-Whitney U test\n",
      "      --threads INT       Use multithreading with INT worker threads [0]\n",
      "\n",
      "SNP/INDEL genotype likelihoods options:\n",
      "  -X, --config STR        Specify platform specific profiles (see below)\n",
      "  -e, --ext-prob INT      Phred-scaled gap extension seq error probability [20]\n",
      "  -F, --gap-frac FLOAT    Minimum fraction of gapped reads [0.05]\n",
      "  -h, --tandem-qual INT   Coefficient for homopolymer errors [500]\n",
      "  -I, --skip-indels       Do not perform indel calling\n",
      "  -L, --max-idepth INT    Maximum per-file depth for INDEL calling [250]\n",
      "  -m, --min-ireads INT    Minimum number gapped reads for indel candidates [2]\n",
      "  -M, --max-read-len INT  Maximum length of read to pass to BAQ algorithm [500]\n",
      "  -o, --open-prob INT     Phred-scaled gap open seq error probability [40]\n",
      "  -p, --per-sample-mF     Apply -m and -F per-sample for increased sensitivity\n",
      "  -P, --platforms STR     Comma separated list of platforms for indels [all]\n",
      "  --ar, --ambig-reads STR   What to do with ambiguous indel reads: drop,incAD,incAD0 [drop]\n",
      "      --indel-bias FLOAT  Raise to favour recall over precision [1.00]\n",
      "      --indel-size INT    Approximate maximum indel size considered [110]\n",
      "\n",
      "Configuration profiles activated with -X, --config:\n",
      "    1.12:        -Q13 -h100 -m1 -F0.002\n",
      "    illumina:    [ default values ]\n",
      "    ont:         -B -Q5 --max-BQ 30 -I [also try eg |bcftools call -P0.01]\n",
      "    pacbio-ccs:  -D -Q5 --max-BQ 50 -F0.1 -o25 -e1 --delta-BQ 10 -M99999\n",
      "\n",
      "Notes: Assuming diploid individuals.\n",
      "\n",
      "Example:\n",
      "   # See also http://samtools.github.io/bcftools/howtos/variant-calling.html\n",
      "   bcftools mpileup -Ou -f reference.fa alignments.bam | bcftools call -mv -Ob -o calls.bcf\n",
      "\n",
      "(bioinfo) \n"
     ]
    },
    {
     "ename": "",
     "evalue": "1",
     "output_type": "error",
     "traceback": []
    }
   ],
   "source": [
    "bcftools mpileup"
   ]
  },
  {
   "cell_type": "code",
   "execution_count": 9,
   "metadata": {
    "tags": []
   },
   "outputs": [
    {
     "name": "stdout",
     "output_type": "stream",
     "text": [
      "(bioinfo) \n",
      "[mpileup] 1 samples in 1 input files\n",
      "[mpileup] maximum number of reads per input file set to -d 1000\n",
      "(bioinfo) \n"
     ]
    },
    {
     "ename": "",
     "evalue": "1",
     "output_type": "error",
     "traceback": []
    }
   ],
   "source": [
    "# Determine the genotype likelihoods for each base.\n",
    "bcftools mpileup \\\n",
    "    -d 1000 \\\n",
    "    -Q 20 \\\n",
    "    -Ou -B \\\n",
    "    --threads 14 \\\n",
    "    -f refs/Typhi_CT18.fasta \\\n",
    "    other_outputs/STY_0014.sorted.bam \\\n",
    "    > other_outputs/genotypes.bcf"
   ]
  },
  {
   "cell_type": "code",
   "execution_count": 10,
   "metadata": {
    "tags": []
   },
   "outputs": [
    {
     "name": "stdout",
     "output_type": "stream",
     "text": [
      "(bioinfo) \n",
      "(bioinfo) \n"
     ]
    },
    {
     "ename": "",
     "evalue": "1",
     "output_type": "error",
     "traceback": []
    }
   ],
   "source": [
    "# Call the variants with bcftools\n",
    "bcftools call \\\n",
    "    --ploidy 1 -vc \\\n",
    "    --threads 14 -Ov \\\n",
    "    other_outputs/genotypes.bcf \\\n",
    "    > raw_variants.vcf"
   ]
  },
  {
   "cell_type": "markdown",
   "metadata": {},
   "source": [
    "## Step-4: Filter SNPs"
   ]
  },
  {
   "cell_type": "code",
   "execution_count": 11,
   "metadata": {
    "tags": []
   },
   "outputs": [
    {
     "name": "stdout",
     "output_type": "stream",
     "text": [
      "(bioinfo) \n",
      "(bioinfo) \n"
     ]
    },
    {
     "ename": "",
     "evalue": "1",
     "output_type": "error",
     "traceback": []
    }
   ],
   "source": [
    "# Filter SNPs \n",
    "bcftools view -v snps -g hom --threads 14 raw_variants.vcf > final_variants.vcf"
   ]
  }
 ],
 "metadata": {
  "kernelspec": {
   "display_name": "Bash",
   "language": "bash",
   "name": "bash"
  },
  "language_info": {
   "codemirror_mode": "shell",
   "file_extension": ".sh",
   "mimetype": "text/x-sh",
   "name": "bash"
  }
 },
 "nbformat": 4,
 "nbformat_minor": 4
}
