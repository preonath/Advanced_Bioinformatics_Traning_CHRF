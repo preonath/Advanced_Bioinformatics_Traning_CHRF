{
 "cells": [
  {
   "cell_type": "markdown",
   "metadata": {},
   "source": [
    "## Activate Bioinfo Conda Environment"
   ]
  },
  {
   "cell_type": "code",
   "execution_count": 5,
   "metadata": {
    "tags": [],
    "vscode": {
     "languageId": "shellscript"
    }
   },
   "outputs": [
    {
     "name": "stdout",
     "output_type": "stream",
     "text": [
      "(bioinfo) \n",
      "(bioinfo) \n"
     ]
    },
    {
     "ename": "",
     "evalue": "1",
     "output_type": "error",
     "traceback": []
    }
   ],
   "source": [
    "# Activate conda env\n",
    "conda activate bioinfo"
   ]
  },
  {
   "cell_type": "markdown",
   "metadata": {},
   "source": [
    "# Variant Calling"
   ]
  },
  {
   "cell_type": "markdown",
   "metadata": {},
   "source": [
    "## Step-1: Declare The Variables"
   ]
  },
  {
   "cell_type": "code",
   "execution_count": 6,
   "metadata": {
    "collapsed": true,
    "jupyter": {
     "outputs_hidden": true
    },
    "tags": [],
    "vscode": {
     "languageId": "shellscript"
    }
   },
   "outputs": [
    {
     "name": "stdout",
     "output_type": "stream",
     "text": [
      "(bioinfo) \n",
      "(bioinfo) \n",
      "(bioinfo) \n",
      "(bioinfo) \n",
      "(bioinfo) \n",
      "(bioinfo) \n",
      "(bioinfo) \n",
      "(bioinfo) \n",
      "(bioinfo) \n",
      "(bioinfo) \n",
      "(bioinfo) \n",
      "(bioinfo) \n",
      "(bioinfo) \n",
      "(bioinfo) \n",
      "(bioinfo) \n",
      "(bioinfo) \n"
     ]
    },
    {
     "ename": "",
     "evalue": "1",
     "output_type": "error",
     "traceback": []
    }
   ],
   "source": [
    "\n",
    "# Reference Sequence\n",
    "REF=refs/Typhi_CT18.fasta\n",
    "\n",
    "# Shortcut to read names.\n",
    "R1=data/STY_0014_R1.fastq.gz\n",
    "R2=data/STY_0014_R2.fastq.gz\n",
    "\n",
    "\n",
    "# Create and Define Intermediate output folder\n",
    "mkdir -p other_outputs\n",
    "OUT=other_outputs\n",
    "\n",
    "# The resulting alignment file name.\n",
    "SAM=$OUT/STY_0014.sam\n",
    "BAM=$OUT/STY_0014.sorted.bam"
   ]
  },
  {
   "cell_type": "markdown",
   "metadata": {},
   "source": [
    "## Step-2: Index the Reference"
   ]
  },
  {
   "cell_type": "code",
   "execution_count": 7,
   "metadata": {
    "tags": [],
    "vscode": {
     "languageId": "shellscript"
    }
   },
   "outputs": [
    {
     "name": "stdout",
     "output_type": "stream",
     "text": [
      "(bioinfo) \n",
      "[bwa_index] Pack FASTA... 0.02 sec\n",
      "[bwa_index] Construct BWT for the packed sequence...\n",
      "[bwa_index] 0.70 seconds elapse.\n",
      "[bwa_index] Update BWT... 0.02 sec\n",
      "[bwa_index] Pack forward-only FASTA... 0.02 sec\n",
      "[bwa_index] Construct SA from BWT and Occ... 0.32 sec\n",
      "[main] Version: 0.7.17-r1188\n",
      "[main] CMD: bwa index refs/Typhi_CT18.fasta\n",
      "[main] Real time: 1.095 sec; CPU: 1.079 sec\n",
      "(bioinfo) \n",
      "(bioinfo) \n",
      "(bioinfo) \n",
      "(bioinfo) \n"
     ]
    },
    {
     "ename": "",
     "evalue": "1",
     "output_type": "error",
     "traceback": []
    }
   ],
   "source": [
    "# Index reference for the aligner.\n",
    "bwa index $REF\n",
    "\n",
    "# Index the reference genome for IGV\n",
    "samtools faidx $REF"
   ]
  },
  {
   "cell_type": "markdown",
   "metadata": {
    "vscode": {
     "languageId": "shellscript"
    }
   },
   "source": [
    "## Step-3: Perform the Alignment"
   ]
  },
  {
   "cell_type": "code",
   "execution_count": 22,
   "metadata": {
    "collapsed": true,
    "jupyter": {
     "outputs_hidden": true
    },
    "tags": []
   },
   "outputs": [
    {
     "name": "stdout",
     "output_type": "stream",
     "text": [
      "\n",
      "Usage: bwa mem [options] <idxbase> <in1.fq> [in2.fq]\n",
      "\n",
      "Algorithm options:\n",
      "\n",
      "       -t INT        number of threads [1]\n",
      "       -k INT        minimum seed length [19]\n",
      "       -w INT        band width for banded alignment [100]\n",
      "       -d INT        off-diagonal X-dropoff [100]\n",
      "       -r FLOAT      look for internal seeds inside a seed longer than {-k} * FLOAT [1.5]\n",
      "       -y INT        seed occurrence for the 3rd round seeding [20]\n",
      "       -c INT        skip seeds with more than INT occurrences [500]\n",
      "       -D FLOAT      drop chains shorter than FLOAT fraction of the longest overlapping chain [0.50]\n",
      "       -W INT        discard a chain if seeded bases shorter than INT [0]\n",
      "       -m INT        perform at most INT rounds of mate rescues for each read [50]\n",
      "       -S            skip mate rescue\n",
      "       -P            skip pairing; mate rescue performed unless -S also in use\n",
      "\n",
      "Scoring options:\n",
      "\n",
      "       -A INT        score for a sequence match, which scales options -TdBOELU unless overridden [1]\n",
      "       -B INT        penalty for a mismatch [4]\n",
      "       -O INT[,INT]  gap open penalties for deletions and insertions [6,6]\n",
      "       -E INT[,INT]  gap extension penalty; a gap of size k cost '{-O} + {-E}*k' [1,1]\n",
      "       -L INT[,INT]  penalty for 5'- and 3'-end clipping [5,5]\n",
      "       -U INT        penalty for an unpaired read pair [17]\n",
      "\n",
      "       -x STR        read type. Setting -x changes multiple parameters unless overridden [null]\n",
      "                     pacbio: -k17 -W40 -r10 -A1 -B1 -O1 -E1 -L0  (PacBio reads to ref)\n",
      "                     ont2d: -k14 -W20 -r10 -A1 -B1 -O1 -E1 -L0  (Oxford Nanopore 2D-reads to ref)\n",
      "                     intractg: -B9 -O16 -L5  (intra-species contigs to ref)\n",
      "\n",
      "Input/output options:\n",
      "\n",
      "       -p            smart pairing (ignoring in2.fq)\n",
      "       -R STR        read group header line such as '@RG\\tID:foo\\tSM:bar' [null]\n",
      "       -H STR/FILE   insert STR to header if it starts with @; or insert lines in FILE [null]\n",
      "       -o FILE       sam file to output results to [stdout]\n",
      "       -j            treat ALT contigs as part of the primary assembly (i.e. ignore <idxbase>.alt file)\n",
      "       -5            for split alignment, take the alignment with the smallest coordinate as primary\n",
      "       -q            don't modify mapQ of supplementary alignments\n",
      "       -K INT        process INT input bases in each batch regardless of nThreads (for reproducibility) []\n",
      "\n",
      "       -v INT        verbosity level: 1=error, 2=warning, 3=message, 4+=debugging [3]\n",
      "       -T INT        minimum score to output [30]\n",
      "       -h INT[,INT]  if there are <INT hits with score >80% of the max score, output all in XA [5,200]\n",
      "       -a            output all alignments for SE or unpaired PE\n",
      "       -C            append FASTA/FASTQ comment to SAM output\n",
      "       -V            output the reference FASTA header in the XR tag\n",
      "       -Y            use soft clipping for supplementary alignments\n",
      "       -M            mark shorter split hits as secondary\n",
      "\n",
      "       -I FLOAT[,FLOAT[,INT[,INT]]]\n",
      "                     specify the mean, standard deviation (10% of the mean if absent), max\n",
      "                     (4 sigma from the mean if absent) and min of the insert size distribution.\n",
      "                     FR orientation only. [inferred]\n",
      "\n",
      "Note: Please read the man page for detailed description of the command line and options.\n",
      "\n",
      "(bioinfo) \n"
     ]
    },
    {
     "ename": "",
     "evalue": "1",
     "output_type": "error",
     "traceback": []
    }
   ],
   "source": [
    "bwa mem"
   ]
  },
  {
   "cell_type": "code",
   "execution_count": 8,
   "metadata": {
    "collapsed": true,
    "jupyter": {
     "outputs_hidden": true
    },
    "tags": []
   },
   "outputs": [
    {
     "name": "stdout",
     "output_type": "stream",
     "text": [
      "(bioinfo) \n",
      "[M::bwa_idx_load_from_disk] read 0 ALT contigs\n",
      "[M::process] read 928990 sequences (140000257 bp)...\n",
      "[M::process] read 929018 sequences (140000066 bp)...\n",
      "[M::mem_pestat] # candidate unique pairs for (FF, FR, RF, RR): (6850, 424127, 197, 6859)\n",
      "[M::mem_pestat] analyzing insert size distribution for orientation FF...\n",
      "[M::mem_pestat] (25, 50, 75) percentile: (149, 303, 862)\n",
      "[M::mem_pestat] low and high boundaries for computing mean and std.dev: (1, 2288)\n",
      "[M::mem_pestat] mean and std.dev: (458.12, 479.91)\n",
      "[M::mem_pestat] low and high boundaries for proper pairs: (1, 3001)\n",
      "[M::mem_pestat] analyzing insert size distribution for orientation FR...\n",
      "[M::mem_pestat] (25, 50, 75) percentile: (64, 116, 193)\n",
      "[M::mem_pestat] low and high boundaries for computing mean and std.dev: (1, 451)\n",
      "[M::mem_pestat] mean and std.dev: (136.35, 89.56)\n",
      "[M::mem_pestat] low and high boundaries for proper pairs: (1, 580)\n",
      "[M::mem_pestat] analyzing insert size distribution for orientation RF...\n",
      "[M::mem_pestat] (25, 50, 75) percentile: (282, 1048, 3592)\n",
      "[M::mem_pestat] low and high boundaries for computing mean and std.dev: (1, 10212)\n",
      "[M::mem_pestat] mean and std.dev: (2012.05, 2154.25)\n",
      "[M::mem_pestat] low and high boundaries for proper pairs: (1, 13522)\n",
      "[M::mem_pestat] analyzing insert size distribution for orientation RR...\n",
      "[M::mem_pestat] (25, 50, 75) percentile: (149, 309, 867)\n",
      "[M::mem_pestat] low and high boundaries for computing mean and std.dev: (1, 2303)\n",
      "[M::mem_pestat] mean and std.dev: (453.20, 470.93)\n",
      "[M::mem_pestat] low and high boundaries for proper pairs: (1, 3021)\n",
      "[M::mem_pestat] skip orientation FF\n",
      "[M::mem_pestat] skip orientation RF\n",
      "[M::mem_pestat] skip orientation RR\n",
      "[M::mem_process_seqs] Processed 928990 reads in 65.288 CPU sec, 4.599 real sec\n",
      "[M::process] read 929014 sequences (140000044 bp)...\n",
      "[M::mem_pestat] # candidate unique pairs for (FF, FR, RF, RR): (6847, 425277, 195, 6836)\n",
      "[M::mem_pestat] analyzing insert size distribution for orientation FF...\n",
      "[M::mem_pestat] (25, 50, 75) percentile: (150, 307, 875)\n",
      "[M::mem_pestat] low and high boundaries for computing mean and std.dev: (1, 2325)\n",
      "[M::mem_pestat] mean and std.dev: (464.01, 485.21)\n",
      "[M::mem_pestat] low and high boundaries for proper pairs: (1, 3050)\n",
      "[M::mem_pestat] analyzing insert size distribution for orientation FR...\n",
      "[M::mem_pestat] (25, 50, 75) percentile: (65, 118, 194)\n",
      "[M::mem_pestat] low and high boundaries for computing mean and std.dev: (1, 452)\n",
      "[M::mem_pestat] mean and std.dev: (137.16, 89.60)\n",
      "[M::mem_pestat] low and high boundaries for proper pairs: (1, 581)\n",
      "[M::mem_pestat] analyzing insert size distribution for orientation RF...\n",
      "[M::mem_pestat] (25, 50, 75) percentile: (326, 930, 2124)\n",
      "[M::mem_pestat] low and high boundaries for computing mean and std.dev: (1, 5720)\n",
      "[M::mem_pestat] mean and std.dev: (1243.21, 1227.21)\n",
      "[M::mem_pestat] low and high boundaries for proper pairs: (1, 7518)\n",
      "[M::mem_pestat] analyzing insert size distribution for orientation RR...\n",
      "[M::mem_pestat] (25, 50, 75) percentile: (153, 312, 913)\n",
      "[M::mem_pestat] low and high boundaries for computing mean and std.dev: (1, 2433)\n",
      "[M::mem_pestat] mean and std.dev: (486.70, 529.86)\n",
      "[M::mem_pestat] low and high boundaries for proper pairs: (1, 3193)\n",
      "[M::mem_pestat] skip orientation FF\n",
      "[M::mem_pestat] skip orientation RF\n",
      "[M::mem_pestat] skip orientation RR\n",
      "[M::mem_process_seqs] Processed 929018 reads in 61.744 CPU sec, 4.305 real sec\n",
      "[M::process] read 929012 sequences (140000025 bp)...\n",
      "[M::mem_pestat] # candidate unique pairs for (FF, FR, RF, RR): (6581, 425252, 194, 6764)\n",
      "[M::mem_pestat] analyzing insert size distribution for orientation FF...\n",
      "[M::mem_pestat] (25, 50, 75) percentile: (145, 293, 883)\n",
      "[M::mem_pestat] low and high boundaries for computing mean and std.dev: (1, 2359)\n",
      "[M::mem_pestat] mean and std.dev: (460.29, 501.39)\n",
      "[M::mem_pestat] low and high boundaries for proper pairs: (1, 3097)\n",
      "[M::mem_pestat] analyzing insert size distribution for orientation FR...\n",
      "[M::mem_pestat] (25, 50, 75) percentile: (65, 117, 191)\n",
      "[M::mem_pestat] low and high boundaries for computing mean and std.dev: (1, 443)\n",
      "[M::mem_pestat] mean and std.dev: (135.83, 87.81)\n",
      "[M::mem_pestat] low and high boundaries for proper pairs: (1, 569)\n",
      "[M::mem_pestat] analyzing insert size distribution for orientation RF...\n",
      "[M::mem_pestat] (25, 50, 75) percentile: (327, 988, 3053)\n",
      "[M::mem_pestat] low and high boundaries for computing mean and std.dev: (1, 8505)\n",
      "[M::mem_pestat] mean and std.dev: (1835.37, 1952.50)\n",
      "[M::mem_pestat] low and high boundaries for proper pairs: (1, 11231)\n",
      "[M::mem_pestat] analyzing insert size distribution for orientation RR...\n",
      "[M::mem_pestat] (25, 50, 75) percentile: (146, 293, 883)\n",
      "[M::mem_pestat] low and high boundaries for computing mean and std.dev: (1, 2357)\n",
      "[M::mem_pestat] mean and std.dev: (460.04, 493.23)\n",
      "[M::mem_pestat] low and high boundaries for proper pairs: (1, 3094)\n",
      "[M::mem_pestat] skip orientation FF\n",
      "[M::mem_pestat] skip orientation RF\n",
      "[M::mem_pestat] skip orientation RR\n",
      "[M::mem_process_seqs] Processed 929014 reads in 61.932 CPU sec, 4.321 real sec\n",
      "[M::process] read 559352 sequences (84291755 bp)...\n",
      "[M::mem_pestat] # candidate unique pairs for (FF, FR, RF, RR): (6383, 425175, 179, 6613)\n",
      "[M::mem_pestat] analyzing insert size distribution for orientation FF...\n",
      "[M::mem_pestat] (25, 50, 75) percentile: (144, 288, 830)\n",
      "[M::mem_pestat] low and high boundaries for computing mean and std.dev: (1, 2202)\n",
      "[M::mem_pestat] mean and std.dev: (436.40, 463.93)\n",
      "[M::mem_pestat] low and high boundaries for proper pairs: (1, 2888)\n",
      "[M::mem_pestat] analyzing insert size distribution for orientation FR...\n",
      "[M::mem_pestat] (25, 50, 75) percentile: (65, 117, 191)\n",
      "[M::mem_pestat] low and high boundaries for computing mean and std.dev: (1, 443)\n",
      "[M::mem_pestat] mean and std.dev: (135.75, 87.72)\n",
      "[M::mem_pestat] low and high boundaries for proper pairs: (1, 569)\n",
      "[M::mem_pestat] analyzing insert size distribution for orientation RF...\n",
      "[M::mem_pestat] (25, 50, 75) percentile: (218, 998, 2414)\n",
      "[M::mem_pestat] low and high boundaries for computing mean and std.dev: (1, 6806)\n",
      "[M::mem_pestat] mean and std.dev: (1427.08, 1531.75)\n",
      "[M::mem_pestat] low and high boundaries for proper pairs: (1, 9002)\n",
      "[M::mem_pestat] analyzing insert size distribution for orientation RR...\n",
      "[M::mem_pestat] (25, 50, 75) percentile: (147, 286, 839)\n",
      "[M::mem_pestat] low and high boundaries for computing mean and std.dev: (1, 2223)\n",
      "[M::mem_pestat] mean and std.dev: (440.65, 470.82)\n",
      "[M::mem_pestat] low and high boundaries for proper pairs: (1, 2915)\n",
      "[M::mem_pestat] skip orientation FF\n",
      "[M::mem_pestat] skip orientation RF\n",
      "[M::mem_pestat] skip orientation RR\n",
      "[M::mem_process_seqs] Processed 929012 reads in 64.082 CPU sec, 4.626 real sec\n",
      "[M::mem_pestat] # candidate unique pairs for (FF, FR, RF, RR): (3971, 256583, 97, 3877)\n",
      "[M::mem_pestat] analyzing insert size distribution for orientation FF...\n",
      "[M::mem_pestat] (25, 50, 75) percentile: (144, 283, 919)\n",
      "[M::mem_pestat] low and high boundaries for computing mean and std.dev: (1, 2469)\n",
      "[M::mem_pestat] mean and std.dev: (479.81, 540.12)\n",
      "[M::mem_pestat] low and high boundaries for proper pairs: (1, 3244)\n",
      "[M::mem_pestat] analyzing insert size distribution for orientation FR...\n",
      "[M::mem_pestat] (25, 50, 75) percentile: (65, 117, 191)\n",
      "[M::mem_pestat] low and high boundaries for computing mean and std.dev: (1, 443)\n",
      "[M::mem_pestat] mean and std.dev: (135.51, 87.00)\n",
      "[M::mem_pestat] low and high boundaries for proper pairs: (1, 569)\n",
      "[M::mem_pestat] analyzing insert size distribution for orientation RF...\n",
      "[M::mem_pestat] (25, 50, 75) percentile: (326, 1276, 2662)\n",
      "[M::mem_pestat] low and high boundaries for computing mean and std.dev: (1, 7334)\n",
      "[M::mem_pestat] mean and std.dev: (1635.42, 1491.31)\n",
      "[M::mem_pestat] low and high boundaries for proper pairs: (1, 9670)\n",
      "[M::mem_pestat] analyzing insert size distribution for orientation RR...\n",
      "[M::mem_pestat] (25, 50, 75) percentile: (152, 302, 807)\n",
      "[M::mem_pestat] low and high boundaries for computing mean and std.dev: (1, 2117)\n",
      "[M::mem_pestat] mean and std.dev: (442.84, 453.98)\n",
      "[M::mem_pestat] low and high boundaries for proper pairs: (1, 2772)\n",
      "[M::mem_pestat] skip orientation FF\n",
      "[M::mem_pestat] skip orientation RF\n",
      "[M::mem_pestat] skip orientation RR\n",
      "[M::mem_process_seqs] Processed 559352 reads in 37.556 CPU sec, 2.686 real sec\n",
      "[main] Version: 0.7.17-r1188\n",
      "[main] CMD: bwa mem -t 14 refs/Typhi_CT18.fasta data/STY_0014_R1.fastq.gz data/STY_0014_R2.fastq.gz\n",
      "[main] Real time: 22.530 sec; CPU: 292.469 sec\n",
      "(bioinfo) \n"
     ]
    },
    {
     "ename": "",
     "evalue": "1",
     "output_type": "error",
     "traceback": []
    }
   ],
   "source": [
    "# Short Read Alignment\n",
    "bwa mem -t 14 $REF $R1 $R2 > $SAM"
   ]
  },
  {
   "cell_type": "code",
   "execution_count": 9,
   "metadata": {
    "collapsed": true,
    "jupyter": {
     "outputs_hidden": true
    },
    "tags": []
   },
   "outputs": [
    {
     "name": "stdout",
     "output_type": "stream",
     "text": [
      "Usage: samtools sort [options...] [in.bam]\n",
      "Options:\n",
      "  -l INT     Set compression level, from 0 (uncompressed) to 9 (best)\n",
      "  -u         Output uncompressed data (equivalent to -l 0)\n",
      "  -m INT     Set maximum memory per thread; suffix K/M/G recognized [768M]\n",
      "  -M         Use minimiser for clustering unaligned/unplaced reads\n",
      "  -K INT     Kmer size to use for minimiser [20]\n",
      "  -n         Sort by read name (not compatible with samtools index command)\n",
      "  -t TAG     Sort by value of TAG. Uses position as secondary index (or read name if -n is set)\n",
      "  -o FILE    Write final output to FILE rather than standard output\n",
      "  -T PREFIX  Write temporary files to PREFIX.nnnn.bam\n",
      "      --no-PG\n",
      "               Do not add a PG line\n",
      "      --template-coordinate\n",
      "               Sort by template-coordinate\n",
      "      --input-fmt-option OPT[=VAL]\n",
      "               Specify a single input file format option in the form\n",
      "               of OPTION or OPTION=VALUE\n",
      "  -O, --output-fmt FORMAT[,OPT[=VAL]]...\n",
      "               Specify output format (SAM, BAM, CRAM)\n",
      "      --output-fmt-option OPT[=VAL]\n",
      "               Specify a single output file format option in the form\n",
      "               of OPTION or OPTION=VALUE\n",
      "      --reference FILE\n",
      "               Reference sequence FASTA FILE [null]\n",
      "  -@, --threads INT\n",
      "               Number of additional threads to use [0]\n",
      "      --write-index\n",
      "               Automatically index the output files [off]\n",
      "      --verbosity INT\n",
      "               Set level of verbosity\n",
      "(bioinfo) \n"
     ]
    },
    {
     "ename": "",
     "evalue": "1",
     "output_type": "error",
     "traceback": []
    }
   ],
   "source": [
    "samtools sort"
   ]
  },
  {
   "cell_type": "code",
   "execution_count": 10,
   "metadata": {
    "tags": []
   },
   "outputs": [
    {
     "name": "stdout",
     "output_type": "stream",
     "text": [
      "(bioinfo) \n",
      "[bam_sort_core] merging from 0 files and 14 in-memory blocks...\n",
      "(bioinfo) \n"
     ]
    },
    {
     "ename": "",
     "evalue": "1",
     "output_type": "error",
     "traceback": []
    }
   ],
   "source": [
    "# Convert SAM file to sorted BAM\n",
    "samtools sort -@ 14 $SAM -o $BAM"
   ]
  },
  {
   "cell_type": "code",
   "execution_count": 11,
   "metadata": {
    "tags": []
   },
   "outputs": [
    {
     "name": "stdout",
     "output_type": "stream",
     "text": [
      "(bioinfo) \n",
      "(bioinfo) \n"
     ]
    },
    {
     "ename": "",
     "evalue": "1",
     "output_type": "error",
     "traceback": []
    }
   ],
   "source": [
    "# Index the BAM file.\n",
    "samtools index $BAM"
   ]
  },
  {
   "cell_type": "markdown",
   "metadata": {
    "jupyter": {
     "outputs_hidden": true
    },
    "tags": [],
    "vscode": {
     "languageId": "shellscript"
    }
   },
   "source": [
    "Align and generate a BAM file directly  \n",
    "`bwa mem -t 14 $REF $R1 $R2 | samtools sort > $BAM`"
   ]
  },
  {
   "cell_type": "markdown",
   "metadata": {},
   "source": [
    "## Step-4: Call variants"
   ]
  },
  {
   "cell_type": "code",
   "execution_count": 18,
   "metadata": {
    "collapsed": true,
    "jupyter": {
     "outputs_hidden": true
    },
    "tags": []
   },
   "outputs": [
    {
     "name": "stdout",
     "output_type": "stream",
     "text": [
      "\n",
      "About:   SNP/indel variant calling from VCF/BCF. To be used in conjunction with bcftools mpileup.\n",
      "         This command replaces the former \"bcftools view\" caller. Some of the original\n",
      "         functionality has been temporarily lost in the process of transition to htslib,\n",
      "         but will be added back on popular demand. The original calling model can be\n",
      "         invoked with the -c option.\n",
      "Usage:   bcftools call [options] <in.vcf.gz>\n",
      "\n",
      "File format options:\n",
      "       --no-version                Do not append version and command line to the header\n",
      "   -o, --output FILE               Write output to a file [standard output]\n",
      "   -O, --output-type b|u|z|v       Output type: 'b' compressed BCF; 'u' uncompressed BCF; 'z' compressed VCF; 'v' uncompressed VCF [v]\n",
      "   -O, --output-type u|b|v|z[0-9]  u/b: un/compressed BCF, v/z: un/compressed VCF, 0-9: compression level [v]\n",
      "       --ploidy ASSEMBLY[?]        Predefined ploidy, 'list' to print available settings, append '?' for details [2]\n",
      "       --ploidy-file FILE          Space/tab-delimited list of CHROM,FROM,TO,SEX,PLOIDY\n",
      "   -r, --regions REGION            Restrict to comma-separated list of regions\n",
      "   -R, --regions-file FILE         Restrict to regions listed in a file\n",
      "       --regions-overlap 0|1|2     Include if POS in the region (0), record overlaps (1), variant overlaps (2) [1]\n",
      "   -s, --samples LIST              List of samples to include [all samples]\n",
      "   -S, --samples-file FILE         PED file or a file with an optional column with sex (see man page for details) [all samples]\n",
      "   -t, --targets REGION            Similar to -r but streams rather than index-jumps\n",
      "   -T, --targets-file FILE         Similar to -R but streams rather than index-jumps\n",
      "       --threads INT               Use multithreading with INT worker threads [0]\n",
      "\n",
      "Input/output options:\n",
      "   -A, --keep-alts                 Keep all possible alternate alleles at variant sites\n",
      "   -a, --annotate LIST             Optional tags to output (lowercase allowed); '?' to list available tags\n",
      "   -F, --prior-freqs AN,AC         Use prior allele frequencies, determined from these pre-filled tags\n",
      "   -G, --group-samples FILE|-      Group samples by population (file with \"sample\\tgroup\") or \"-\" for single-sample calling.\n",
      "                                   This requires FORMAT/QS or other Number=R,Type=Integer tag such as FORMAT/AD\n",
      "       --group-samples-tag TAG     The tag to use with -G, by default FORMAT/QS and FORMAT/AD are checked automatically\n",
      "   -g, --gvcf INT,[...]            Group non-variant sites into gVCF blocks by minimum per-sample DP\n",
      "   -i, --insert-missed             Output also sites missed by mpileup but present in -T\n",
      "   -M, --keep-masked-ref           Keep sites with masked reference allele (REF=N)\n",
      "   -V, --skip-variants TYPE        Skip indels/snps\n",
      "   -v, --variants-only             Output variant sites only\n",
      "\n",
      "Consensus/variant calling options:\n",
      "   -c, --consensus-caller          The original calling method (conflicts with -m)\n",
      "   -C, --constrain STR             One of: alleles, trio (see manual)\n",
      "   -m, --multiallelic-caller       Alternative model for multiallelic and rare-variant calling (conflicts with -c)\n",
      "   -n, --novel-rate FLOAT,[...]    Likelihood of novel mutation for constrained trio calling, see man page for details [1e-8,1e-9,1e-9]\n",
      "   -p, --pval-threshold FLOAT      Variant if P(ref|D)<FLOAT with -c [0.5]\n",
      "   -P, --prior FLOAT               Mutation rate (use bigger for greater sensitivity), use with -m [1.1e-3]\n",
      "\n",
      "Example:\n",
      "   # See also http://samtools.github.io/bcftools/howtos/variant-calling.html\n",
      "   bcftools mpileup -Ou -f reference.fa alignments.bam | bcftools call -mv -Ob -o calls.bcf\n",
      "\n",
      "(bioinfo) \n"
     ]
    },
    {
     "ename": "",
     "evalue": "1",
     "output_type": "error",
     "traceback": []
    }
   ],
   "source": [
    "bcftools call"
   ]
  },
  {
   "cell_type": "code",
   "execution_count": null,
   "metadata": {},
   "outputs": [],
   "source": [
    "bcftools mpileup -d 1000 -Q 20 -Ou -Bf $ref $rawpath\\/$name\\/5_Mapping/$name\\.sorted.bam\n",
    "\n",
    "\n",
    " bcftools call -cv --threads 72"
   ]
  },
  {
   "cell_type": "code",
   "execution_count": 17,
   "metadata": {
    "tags": []
   },
   "outputs": [
    {
     "name": "stdout",
     "output_type": "stream",
     "text": [
      "(bioinfo) \n",
      "[mpileup] 1 samples in 1 input files\n",
      "[mpileup] maximum number of reads per input file set to -d 1000\n",
      "(bioinfo) \n"
     ]
    },
    {
     "ename": "",
     "evalue": "1",
     "output_type": "error",
     "traceback": []
    }
   ],
   "source": [
    "# Determine the genotype likelihoods for each base.\n",
    "bcftools mpileup -d 1000 -Q 20 -Ou -B -f $REF $BAM > $OUT/genotypes.bcf"
   ]
  },
  {
   "cell_type": "code",
   "execution_count": 20,
   "metadata": {
    "tags": []
   },
   "outputs": [
    {
     "name": "stdout",
     "output_type": "stream",
     "text": [
      "(bioinfo) \n",
      "(bioinfo) \n"
     ]
    },
    {
     "ename": "",
     "evalue": "1",
     "output_type": "error",
     "traceback": []
    }
   ],
   "source": [
    "# Call the variants with bcftools\n",
    "bcftools call --ploidy 1 -vc --threads 14 -Ov $OUT/genotypes.bcf > raw_variants.vcf"
   ]
  },
  {
   "cell_type": "markdown",
   "metadata": {},
   "source": [
    "## Step-5: Filter SNPs"
   ]
  },
  {
   "cell_type": "code",
   "execution_count": 21,
   "metadata": {
    "tags": []
   },
   "outputs": [
    {
     "name": "stdout",
     "output_type": "stream",
     "text": [
      "(bioinfo) \n",
      "(bioinfo) \n"
     ]
    },
    {
     "ename": "",
     "evalue": "1",
     "output_type": "error",
     "traceback": []
    }
   ],
   "source": [
    "# Filter SNPs \n",
    "bcftools view -v snps -g hom --threads 72 raw_variants.vcf > final_variants.vcf"
   ]
  }
 ],
 "metadata": {
  "kernelspec": {
   "display_name": "Bash",
   "language": "bash",
   "name": "bash"
  },
  "language_info": {
   "codemirror_mode": "shell",
   "file_extension": ".sh",
   "mimetype": "text/x-sh",
   "name": "bash"
  }
 },
 "nbformat": 4,
 "nbformat_minor": 4
}
