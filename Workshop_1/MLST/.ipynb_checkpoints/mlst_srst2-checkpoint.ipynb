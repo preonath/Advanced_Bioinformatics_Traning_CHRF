{
 "cells": [
  {
   "cell_type": "markdown",
   "id": "f4e728fa-a5c7-4380-8446-c023c3b2c0b7",
   "metadata": {
    "tags": []
   },
   "source": [
    "# **MLST**\n",
    "\n",
    "## **Overview** ##\n",
    "\n",
    "Multilocus sequence typing (MLST) characterizes isolates of bacterial species using the sequences of internal fragments of (usually) seven house-keeping genes. Approximately 450-500 bp internal fragments of each gene are used, as these can be accurately sequenced on both strands using an automated DNA sequencer.\n",
    "\n",
    "### **Tool(s)** ### \n",
    "\n",
    "MLST can be performed using mlst.\n",
    "\n",
    "\n",
    "\n",
    "## **(ii) mlst** ##\n",
    "\n",
    "mlst scans contig files against traditional PubMLST typing schemes\n",
    "\n",
    "### **Install:** ###\n",
    "\n",
    "```bash\n",
    "\n",
    "conda install -c bioconda mlst\n",
    "```\n",
    "\n",
    "#### **Run the command:** ####\n",
    "\n",
    "```bash\n",
    "\n",
    "mlst --legacy --scheme assembly.fasta\n",
    "\n",
    "```\n",
    "\n",
    "An explanation of this command is as follows:\n",
    "\n",
    "**mlst: is the tool**\n",
    "\n",
    " --legacy: use old legacy output with allele header row (requires --scheme)\n",
    " \n",
    " --scheme: specifies the species (pubmlst scheme). You can identify the scheme using the command “mlst --longlist\"\n",
    " \n",
    " --assembly.fasta: input file\n"
   ]
  },
  {
   "cell_type": "code",
   "execution_count": 4,
   "id": "e34864ee-258c-48df-94c9-b611c634bb92",
   "metadata": {
    "tags": []
   },
   "outputs": [
    {
     "name": "stdout",
     "output_type": "stream",
     "text": [
      "(bioinfo) \n"
     ]
    },
    {
     "ename": "",
     "evalue": "1",
     "output_type": "error",
     "traceback": []
    }
   ],
   "source": [
    "conda activate b"
   ]
  },
  {
   "cell_type": "code",
   "execution_count": 5,
   "id": "69a8482c-9c0b-41a1-9e15-4b6427e376df",
   "metadata": {
    "tags": []
   },
   "outputs": [
    {
     "name": "stdout",
     "output_type": "stream",
     "text": [
      "(bioinfo) \n",
      "(bioinfo) \n",
      "(bioinfo) \n",
      "(bioinfo) \n"
     ]
    },
    {
     "ename": "",
     "evalue": "1",
     "output_type": "error",
     "traceback": []
    }
   ],
   "source": [
    "rawpath=\"/home/asus/Desktop/CHRF_Project/Bioinformatics_Traning/Advance_Bioinformatics_Traning/Data\"\n",
    "adapters_path=\"/home/asus/Desktop/CHRF_Project/Bioinformatics_Traning/Advance_Bioinformatics_Traning/Quality_control/adapter\"\n",
    "\n",
    "ref_db_mlst='/home/asus/Desktop/CHRF_Project/Bioinformatics_Traning/Advance_Bioinformatics_Traning/MLST/ref_mlst'"
   ]
  },
  {
   "cell_type": "code",
   "execution_count": 6,
   "id": "0179e43f-24c8-4be7-8606-821172837f4f",
   "metadata": {
    "tags": []
   },
   "outputs": [
    {
     "name": "stdout",
     "output_type": "stream",
     "text": [
      "SPN_0140\n",
      "Command 'srst2' not found, but can be installed with:\n",
      "sudo apt install srst2\n",
      "(bioinfo) \n"
     ]
    },
    {
     "ename": "",
     "evalue": "1",
     "output_type": "error",
     "traceback": []
    }
   ],
   "source": [
    "for files in $rawpath/*\n",
    "do\n",
    "\n",
    "    name=`basename $files | cut -f 1,2 -d '_'`\n",
    "    echo $name\n",
    "\n",
    "\n",
    "    fastq_1=$rawpath/$name/1_RawData/$name*\\_R1_001.fastq.gz\n",
    "    fastq_2=$rawpath/$name/1_RawData/$name*\\_R2_001.fastq.gz\n",
    "    # echo $fastq_1\n",
    "    # echo $fastq_2\n",
    "\n",
    "\n",
    "    mkdir -p -v $rawpath\\/$name\\/6_mlst/\n",
    "\n",
    "    #getmlst.py --species \"Streptococcus pneumoniae\"\n",
    "\n",
    "    srst2 --input_pe $fastq_1 $fastq_2 --output $rawpath\\/$name\\/6_mlst/ --log --mlst_db $ref_db_mlst/Streptococcus_pneumoniae.fasta --mlst_definitions $ref_db_mlst/profiles_csv --mlst_delimiter _\n",
    "\n",
    "\n",
    "done"
   ]
  },
  {
   "cell_type": "code",
   "execution_count": null,
   "id": "b2a2e923-bef8-498e-bdbf-1d1442a80256",
   "metadata": {},
   "outputs": [],
   "source": []
  }
 ],
 "metadata": {
  "kernelspec": {
   "display_name": "Bash",
   "language": "bash",
   "name": "bash"
  },
  "language_info": {
   "codemirror_mode": "shell",
   "file_extension": ".sh",
   "mimetype": "text/x-sh",
   "name": "bash"
  }
 },
 "nbformat": 4,
 "nbformat_minor": 5
}
