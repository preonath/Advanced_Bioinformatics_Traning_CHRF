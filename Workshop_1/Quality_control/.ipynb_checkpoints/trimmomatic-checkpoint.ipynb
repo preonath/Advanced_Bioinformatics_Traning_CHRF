{
 "cells": [
  {
   "cell_type": "code",
   "execution_count": 7,
   "id": "e6167a50-9035-4b93-afbf-49801c3fb6d7",
   "metadata": {
    "tags": []
   },
   "outputs": [
    {
     "data": {
      "text/html": [
       "<div style=\"text-align:center;\"><img src=\"trimmomatic.png\" /></div>"
      ],
      "text/plain": [
       "<IPython.core.display.HTML object>"
      ]
     },
     "metadata": {},
     "output_type": "display_data"
    }
   ],
   "source": [
    "from IPython.display import Image, display, HTML\n",
    "\n",
    "image_path = 'trimmomatic.png'\n",
    "display(HTML(f'<div style=\"text-align:center;\"><img src=\"{image_path}\" /></div>'))\n"
   ]
  },
  {
   "cell_type": "markdown",
   "id": "2f3605cb-6e5e-404f-ba5f-f1ef639bd075",
   "metadata": {},
   "source": [
    "# **Trimmomatic** #"
   ]
  },
  {
   "cell_type": "markdown",
   "id": "b2c96cfd-5e77-4613-8a99-a8afb6bd5901",
   "metadata": {
    "tags": []
   },
   "source": [
    "## **Adapter Trimming** ##\n",
    "\n",
    "\n",
    "\n",
    ">- **Trimming of adapter sequences from short read data is a common preprocessing step during NGS data analysis.**\n",
    ">- **Adapter sequences should be removed from reads because they interfere with downstream analyses, such as\n",
    ">>- **alignment of reads to a reference.**\n",
    ">- **The adapters contain \n",
    ">>- **the sequencing primer binding sites, \n",
    ">>- **the index sequences, and\n",
    ">>- **the sites that allow library fragments to attach to the flow cell lawn. \n",
    "\n",
    ">- **Trimmomatic offers a wide range of trimming and filtering options, making it highly versatile for various sequencing platforms and experimental setups. It provides robust algorithms for adapter removal and quality trimming, and its flexible command-line interface allows users to customize their trimming strategy based on specific requirements.\n",
    "How the tool works:\n",
    "Trimmomatic operates on sequencing data in FASTQ format. It uses a sliding window approach to identify low-quality regions and applies quality thresholds to trim or remove bases. Additionally, Trimmomatic utilizes adapter sequence databases to detect and remove adapter contamination from reads. It employs different modules and algorithms for quality control and trimming steps, ensuring accurate and efficient processing of sequencing data.\n",
    "\n",
    "\n",
    "## **Tool(s)** ##\n",
    "\n",
    ">- **Trimmomatic offers a wide range of \n",
    ">>- **trimming and filtering options, \n",
    ">>- **making it highly versatile for various sequencing platforms and experimental setups. \n",
    ">- **It provides robust algorithms for \n",
    ">>- **adapter removal and quality trimming\n",
    "\n",
    "## **How the tool works:** ##\n",
    ">- **Trimmomatic operates on sequencing data in FASTQ format.**\n",
    ">- **It uses a sliding window approach to identify low-quality regions and applies quality thresholds to trim or remove bases. \n",
    ">- **Additionally, Trimmomatic utilizes adapter sequence databases to detect and remove adapter contamination from reads. \n",
    ">- **It employs different modules and algorithms for quality control and trimming steps, ensuring accurate and efficient processing of sequencing data.\n",
    "\n",
    "## **Installation:** ##\n",
    "```bash\n",
    "conda install -c bioconda trimmomatic\n",
    "```\n",
    "\n",
    "## **Input file:** ##\n",
    "- ` <forward_reads.fastq.gz> `\n",
    "- ` <reverse_reads.fastq.gz>`\n",
    "\n",
    "\n",
    "## **Adapter file:** ##\n",
    "TruSeq3-PE-2.fa\n",
    "\n",
    "\n",
    "<forward_reads.fastq.gz>\n",
    "## **Standard use:** \n",
    "``` bash \n",
    "trimmomatic PE -threads 92 <forward_reads.fastq.gz> <reverse_reads.fastq.gz> <forward_reads_Trim_P.fastq.gz> <forward_reads_Trim_S.fastq.gz> <reverse_reads_Trim_P.fastq.gz> <reverse_reads_Trim_S.fastq.gz> ILLUMINACLIP:TruSeq3-PE-2.fa:2:30:10 SLIDINGWINDOW:4:20 MINLEN:36 LEADING:20 TRAILING:20\n",
    "```\n",
    "\n",
    "### **Options used in the command:**\n",
    "\n",
    "\n",
    "- ` PE: That it will be taking paired end file as input.`\n",
    "- ` forward_reads.fastq.gz: The first input file name.`\n",
    "- ` reverse_reads.fastq.gz: The second input file name.`\n",
    "- ` forward_reads_Trim_P.fastq.gz: The output file for surviving pairs from the forward_reads file.`\n",
    "- ` forward_reads_Trim_S.fastq.gz: files will contain the single reads that are produced after the trimming process.`\n",
    "- ` reverse_reads_Trim_P.fastq.gz: The output file for surviving pairs from the reverse_reads file.`\n",
    "- ` reverse_reads_Trim_S.fastq.gz: files will contain the single reads that are produced after the trimming process.`\n",
    "- ` ILLUMINACLIP:TruSeq3-PE.fa:2:30:10: To clip the illumina adapters from the input file using the adapter sequences listed in TruSeq3-- PE.fa. The numbers 2:30:10 tell trimmomatic how to handle sequence matches to the TruSeq3 adapters.`\n",
    "- ` SLIDINGWINDOW:4:20:  To use a sliding window of size 4 that will remove bases if their phred score is below 20.`\n",
    "- ` MINLEN:36: This will discard and reads that do not have a at least 36 bases remaining after this trimming step.`\n",
    "\n",
    "\n",
    "#### **Results:** ####\n",
    "\n",
    "- ` forward_reads_Trim_P.fastq.gz`\n",
    "- ` forward_reads_Trim_S.fastq.gz`\n",
    "- ` reverse_reads_Trim_P.fastq.gz`\n",
    "- ` reverse_reads_Trim_S.fastq.gz`\n",
    "\n"
   ]
  },
  {
   "cell_type": "code",
   "execution_count": null,
   "id": "9fdc4c2a-9e57-4a77-8886-a6a3722eba38",
   "metadata": {},
   "outputs": [],
   "source": [
    "trimmomatic \\\n",
    "    PE fastq_1 $fastq_2 \\\n",
    "    forward_reads_Trim_P.fastq.gz forward_reads_Trim_S.fastq.gz \\\n",
    "    reverse_reads_Trim_P.fastq.gz reverse_reads_Trim_S.fastq.gz \\\n",
    "    ILLUMINACLIP:TruSeq3-PE-2.fa:2:30:10 \\\n",
    "    SLIDINGWINDOW:4:20 \\\n",
    "    MINLEN:36 \\\n",
    "    LEADING:20 \\\n",
    "    TRAILING:20 \\\n",
    "    -threads 92"
   ]
  },
  {
   "cell_type": "code",
   "execution_count": null,
   "id": "948255f3-3219-43f5-b67a-3a5629f6bd62",
   "metadata": {},
   "outputs": [],
   "source": []
  }
 ],
 "metadata": {
  "kernelspec": {
   "display_name": "Python 3 (ipykernel)",
   "language": "python",
   "name": "python3"
  },
  "language_info": {
   "codemirror_mode": {
    "name": "ipython",
    "version": 3
   },
   "file_extension": ".py",
   "mimetype": "text/x-python",
   "name": "python",
   "nbconvert_exporter": "python",
   "pygments_lexer": "ipython3",
   "version": "3.8.16"
  }
 },
 "nbformat": 4,
 "nbformat_minor": 5
}
