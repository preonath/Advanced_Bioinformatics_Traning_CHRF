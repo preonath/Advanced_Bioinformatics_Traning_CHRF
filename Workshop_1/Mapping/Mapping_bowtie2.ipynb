{
 "cells": [
  {
   "cell_type": "code",
   "execution_count": 1,
   "id": "fd119ebd-7f8d-492d-837c-82e5d92e8f9c",
   "metadata": {
    "tags": []
   },
   "outputs": [],
   "source": [
    "#***********************************************#\n",
    "#             Mapping by bowtie2                #\n",
    "#***********************************************#\n",
    "\n",
    "\n",
    "\n",
    "rawpath=\"/home/asus/Desktop/CHRF_Project/Bioinformatics_Traning/Advance_Bioinformatics_Traning/Data\"\n",
    "\n",
    "\n",
    "\n",
    "Ref_SPN='/home/asus/Desktop/CHRF_Project/Bioinformatics_Traning/Advance_Bioinformatics_Traning/Mapping/Ref_SPN'\n",
    "refname=NZ_CP035252_SPN\n",
    "ref=/home/asus/Desktop/CHRF_Project/Bioinformatics_Traning/Advance_Bioinformatics_Traning/Mapping/Ref_SPN/NZ_CP035252_SPN.fa\n"
   ]
  },
  {
   "cell_type": "code",
   "execution_count": 2,
   "id": "4d7df689-3ddf-4643-8d2e-98ec25b53ce2",
   "metadata": {
    "tags": []
   },
   "outputs": [
    {
     "name": "stdout",
     "output_type": "stream",
     "text": [
      "mkdir: cannot create directory ‘/home/asus/Desktop/CHRF_Project/Bioinformatics_Traning/Advance_Bioinformatics_Traning/Mapping/Ref_SPN/Index/’: File exists\n",
      "Settings:\n",
      "  Output files: \"/home/asus/Desktop/CHRF_Project/Bioinformatics_Traning/Advance_Bioinformatics_Traning/Mapping/Ref_SPN/Index/index.*.bt2\"\n",
      "  Line rate: 6 (line is 64 bytes)\n",
      "  Lines per side: 1 (side is 64 bytes)\n",
      "  Offset rate: 4 (one in 16)\n",
      "  FTable chars: 10\n",
      "  Strings: unpacked\n",
      "  Max bucket size: default\n",
      "  Max bucket size, sqrt multiplier: default\n",
      "  Max bucket size, len divisor: 4\n",
      "  Difference-cover sample period: 1024\n",
      "  Endianness: little\n",
      "  Actual local endianness: little\n",
      "  Sanity checking: disabled\n",
      "  Assertions: disabled\n",
      "  Random seed: 0\n",
      "  Sizeofs: void*:8, int:4, long:8, size_t:8\n",
      "Input files DNA, FASTA:\n",
      "  /home/asus/Desktop/CHRF_Project/Bioinformatics_Traning/Advance_Bioinformatics_Traning/Mapping/Ref_SPN//home/asus/Desktop/CHRF_Project/Bioinformatics_Traning/Advance_Bioinformatics_Traning/Mapping/Ref_SPN/NZ_CP035252_SPN.fa\n",
      "Error: could not open /home/asus/Desktop/CHRF_Project/Bioinformatics_Traning/Advance_Bioinformatics_Traning/Mapping/Ref_SPN//home/asus/Desktop/CHRF_Project/Bioinformatics_Traning/Advance_Bioinformatics_Traning/Mapping/Ref_SPN/NZ_CP035252_SPN.fa\n",
      "Total time for call to driver() for forward index: 00:00:00\n",
      "Error: Encountered internal Bowtie 2 exception (#1)\n",
      "Command: /usr/bin/bowtie2-build-s --wrapper basic-0 /home/asus/Desktop/CHRF_Project/Bioinformatics_Traning/Advance_Bioinformatics_Traning/Mapping/Ref_SPN//home/asus/Desktop/CHRF_Project/Bioinformatics_Traning/Advance_Bioinformatics_Traning/Mapping/Ref_SPN/NZ_CP035252_SPN.fa /home/asus/Desktop/CHRF_Project/Bioinformatics_Traning/Advance_Bioinformatics_Traning/Mapping/Ref_SPN/Index/index \n"
     ]
    }
   ],
   "source": [
    "# Build Index (speed up the alignment)\n",
    "mkdir -p -v sys$Ref_SPN\\/Index/\n",
    "bowtie2-build $Ref_SPN\\/$ref $Ref_SPN\\/Index/index\n",
    "Index=$Ref_SPN/Index/"
   ]
  },
  {
   "cell_type": "code",
   "execution_count": 3,
   "id": "85a3786b-fb53-4317-be1f-a0d8d110e5ab",
   "metadata": {
    "tags": []
   },
   "outputs": [
    {
     "name": "stdout",
     "output_type": "stream",
     "text": [
      "SPN_0140\n",
      "# Mapping the reads\n",
      "2006858 reads; of these:\n",
      "  2006858 (100.00%) were paired; of these:\n",
      "    476166 (23.73%) aligned concordantly 0 times\n",
      "    1473472 (73.42%) aligned concordantly exactly 1 time\n",
      "    57220 (2.85%) aligned concordantly >1 times\n",
      "    ----\n",
      "    476166 pairs aligned concordantly 0 times; of these:\n",
      "      177908 (37.36%) aligned discordantly 1 time\n",
      "    ----\n",
      "    298258 pairs aligned 0 times concordantly or discordantly; of these:\n",
      "      596516 mates make up the pairs; of these:\n",
      "        519464 (87.08%) aligned 0 times\n",
      "        55968 (9.38%) aligned exactly 1 time\n",
      "        21084 (3.53%) aligned >1 times\n",
      "87.06% overall alignment rate\n",
      "# Convert .sam to .bam\n",
      "# Sort the .bam\n",
      "[bam_sort_core] merging from 0 files and 12 in-memory blocks...\n",
      "# Index sorted BAM alignments\n",
      "# Call SNPs and Indels\n",
      "Note: none of --samples-file, --ploidy or --ploidy-file given, assuming all sites are diploid\n",
      "[mpileup] 1 samples in 1 input files\n",
      "[mpileup] maximum number of reads per input file set to -d 1000\n"
     ]
    }
   ],
   "source": [
    "\n",
    "for files in $rawpath\\/*\n",
    "do\n",
    "    name=`basename $files| cut -f 1,2 -d '_'`\n",
    "    echo $name\n",
    "    \n",
    "    mkdir -p -v $rawpath\\/$name\\/5_Mapping\n",
    "\n",
    "    fastq_1=$rawpath/$name/1_RawData/$name*\\_R1_001.fastq.gz\n",
    "    fastq_2=$rawpath/$name/1_RawData/$name*\\_R2_001.fastq.gz\n",
    "    # echo $fastq_1\n",
    "    # echo $fastq_2\n",
    "\n",
    "\n",
    "    echo \"# Mapping the reads\"\n",
    "    bowtie2 -x $Index\\/index -1 $fastq_1 -2 $fastq_2 -S $rawpath\\/$name\\/5_Mapping/$name\\.sam -p 12\n",
    "\n",
    "    echo \"# Convert .sam to .bam\"\n",
    "    samtools view -ubS --threads 12 $rawpath\\/$name\\/5_Mapping/$name\\.sam > $rawpath\\/$name\\/5_Mapping/$name\\.bam\n",
    "\n",
    "    echo \"# Sort the .bam\"\n",
    "    samtools sort --threads 12 $rawpath\\/$name\\/5_Mapping/$name\\.bam -o $rawpath\\/$name\\/5_Mapping/$name\\.sorted.bam\n",
    "    \n",
    "    echo \"# Index sorted BAM alignments\"\n",
    "    samtools index -@ 72 $rawpath\\/$name\\/5_Mapping/$name\\.sorted.bam\n",
    "    \n",
    "    \n",
    "    echo \"# Call SNPs and Indels\"\n",
    "    bcftools mpileup -d 1000 -Q 20 -Ou -Bf $ref $rawpath\\/$name\\/5_Mapping/$name\\.sorted.bam | bcftools call -cv --threads 72 | bcftools view -v snps -g hom --threads 72 > $rawpath\\/$name\\/5_Mapping/$name\\.raw.vcf\n",
    "\n",
    "\n",
    "done"
   ]
  }
 ],
 "metadata": {
  "kernelspec": {
   "display_name": "Bash",
   "language": "bash",
   "name": "bash"
  },
  "language_info": {
   "codemirror_mode": "shell",
   "file_extension": ".sh",
   "mimetype": "text/x-sh",
   "name": "bash"
  }
 },
 "nbformat": 4,
 "nbformat_minor": 5
}
